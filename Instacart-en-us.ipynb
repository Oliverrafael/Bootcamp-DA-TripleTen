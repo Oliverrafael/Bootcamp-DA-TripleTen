{
 "cells": [
  {
   "cell_type": "markdown",
   "id": "f2a9566f",
   "metadata": {},
   "source": [
    "## Project Title\n",
    "# Instacart - Supermarket"
   ]
  },
  {
   "cell_type": "markdown",
   "id": "mhIvmmkW414q",
   "metadata": {
    "id": "mhIvmmkW414q"
   },
   "source": [
    "# Project description\n",
    "\n",
    "Instacart is a grocery delivery platform where customers can place a grocery order and receive the purchase at home, similar to how Uber Eats and iFood work."
   ]
  },
  {
   "cell_type": "markdown",
   "id": "3MbyzpOQZ5Or",
   "metadata": {
    "id": "3MbyzpOQZ5Or"
   },
   "source": [
    "# Data description\n",
    "\n",
    "There are five tables in the dataset, and you will need to use all of them to preprocess the data and perform AED. Below is a dictionary that lists the columns of each table and describes the data contained in them.\n",
    "\n",
    "- `instacart_orders.csv`: each row corresponds to an order in the Instacart app\n",
    "    - `'order_id'`: is the unique identification number of each order\n",
    "    - `'user_id'`:  is the unique identification number of each customer's account\n",
    "    - `'order_number'`: is the number of times the customer has placed an order\n",
    "    - `'order_dow'`: is the day of the week the order was placed (0 is Sunday)\n",
    "    - `'order_hour_of_day'`: is the time of day the order was placed\n",
    "    - `'days_since_prior_order'`: is the number of days since the customer placed their previous order\n",
    "\n",
    "\n",
    "\n",
    "\n",
    "- `products.csv`: each row corresponds to a unique product that customers can purchase\n",
    "    - `'product_id'`: is the unique identification number of each product\n",
    "    - `'product_name'`: is the name of the product\n",
    "    - `'aisle_id'`: is the unique identification number of each grocery aisle category\n",
    "    - `'department_id'`: is the unique identification number of each grocery department category\n",
    "\n",
    "\n",
    "\n",
    "-\t`order_products.csv`: each row corresponds to an item included in an order\n",
    "    -\t`'order_id'`: is the unique identification number of each order\n",
    "    -\t`'product_id'`: is the unique identification number of each product\n",
    "    -\t`'add_to_cart_order'`: is the sequential order in which each item was added to the cart\n",
    "    -\t`'reordered'`: 0 if the customer has never purchased the product before, 1 if they have\n",
    "\n",
    "\n",
    "\n",
    "\n",
    "-\t`aisles.csv`\n",
    "    -\t`'aisle_id'`: is the unique identification number of each grocery aisle category\n",
    "    -\t`'aisle'`: is the name of the aisle\n",
    "\n",
    "\n",
    "\n",
    "-\t`departments.csv`\n",
    "    -\t`'department_id'`: is the unique identification number of each grocery department category\n",
    "    -\t`'department'`: is the name of the department\n"
   ]
  },
  {
   "cell_type": "markdown",
   "id": "eb506ed8",
   "metadata": {},
   "source": [
    "## Importing the libraries"
   ]
  },
  {
   "cell_type": "code",
   "execution_count": 40,
   "id": "fbf1adab",
   "metadata": {
    "id": "fbf1adab"
   },
   "outputs": [],
   "source": [
    "# Importing the libraries\n",
    "import pandas as pd"
   ]
  },
  {
   "cell_type": "markdown",
   "id": "2c1c5a05",
   "metadata": {
    "id": "n3Ha_cNSZ8lK"
   },
   "source": [
    "##  Loading the dataset"
   ]
  },
  {
   "cell_type": "code",
   "execution_count": 41,
   "id": "ad36396d",
   "metadata": {
    "id": "ad36396d"
   },
   "outputs": [],
   "source": [
    "# Loading the dataset\n",
    "df_instacart_orders = pd.read_csv('instacart_orders.csv', sep=';')\n",
    "df_products = pd.read_csv('products.csv', sep=';')\n",
    "df_aisles = pd.read_csv('aisles.csv', sep=';')\n",
    "df_departments = pd.read_csv('departments.csv', sep=';')\n",
    "df_order_products = pd.read_csv('order_products.csv', sep=';')"
   ]
  },
  {
   "cell_type": "code",
   "execution_count": 42,
   "id": "2476ad56",
   "metadata": {},
   "outputs": [
    {
     "data": {
      "text/html": [
       "<div>\n",
       "<style scoped>\n",
       "    .dataframe tbody tr th:only-of-type {\n",
       "        vertical-align: middle;\n",
       "    }\n",
       "\n",
       "    .dataframe tbody tr th {\n",
       "        vertical-align: top;\n",
       "    }\n",
       "\n",
       "    .dataframe thead th {\n",
       "        text-align: right;\n",
       "    }\n",
       "</style>\n",
       "<table border=\"1\" class=\"dataframe\">\n",
       "  <thead>\n",
       "    <tr style=\"text-align: right;\">\n",
       "      <th></th>\n",
       "      <th>product_id</th>\n",
       "      <th>count</th>\n",
       "      <th>product_name</th>\n",
       "    </tr>\n",
       "  </thead>\n",
       "  <tbody>\n",
       "    <tr>\n",
       "      <th>0</th>\n",
       "      <td>24852</td>\n",
       "      <td>66050</td>\n",
       "      <td>Banana</td>\n",
       "    </tr>\n",
       "    <tr>\n",
       "      <th>1</th>\n",
       "      <td>13176</td>\n",
       "      <td>53297</td>\n",
       "      <td>Bag of Organic Bananas</td>\n",
       "    </tr>\n",
       "    <tr>\n",
       "      <th>2</th>\n",
       "      <td>21137</td>\n",
       "      <td>37039</td>\n",
       "      <td>Organic Strawberries</td>\n",
       "    </tr>\n",
       "    <tr>\n",
       "      <th>3</th>\n",
       "      <td>21903</td>\n",
       "      <td>33971</td>\n",
       "      <td>Organic Baby Spinach</td>\n",
       "    </tr>\n",
       "    <tr>\n",
       "      <th>4</th>\n",
       "      <td>47209</td>\n",
       "      <td>29773</td>\n",
       "      <td>Organic Hass Avocado</td>\n",
       "    </tr>\n",
       "    <tr>\n",
       "      <th>5</th>\n",
       "      <td>47766</td>\n",
       "      <td>24689</td>\n",
       "      <td>Organic Avocado</td>\n",
       "    </tr>\n",
       "    <tr>\n",
       "      <th>6</th>\n",
       "      <td>47626</td>\n",
       "      <td>21495</td>\n",
       "      <td>Large Lemon</td>\n",
       "    </tr>\n",
       "    <tr>\n",
       "      <th>7</th>\n",
       "      <td>16797</td>\n",
       "      <td>20018</td>\n",
       "      <td>Strawberries</td>\n",
       "    </tr>\n",
       "    <tr>\n",
       "      <th>8</th>\n",
       "      <td>26209</td>\n",
       "      <td>19690</td>\n",
       "      <td>Limes</td>\n",
       "    </tr>\n",
       "    <tr>\n",
       "      <th>9</th>\n",
       "      <td>27845</td>\n",
       "      <td>19600</td>\n",
       "      <td>Organic Whole Milk</td>\n",
       "    </tr>\n",
       "  </tbody>\n",
       "</table>\n",
       "</div>"
      ],
      "text/plain": [
       "   product_id  count            product_name\n",
       "0       24852  66050                  Banana\n",
       "1       13176  53297  Bag of Organic Bananas\n",
       "2       21137  37039    Organic Strawberries\n",
       "3       21903  33971    Organic Baby Spinach\n",
       "4       47209  29773    Organic Hass Avocado\n",
       "5       47766  24689         Organic Avocado\n",
       "6       47626  21495             Large Lemon\n",
       "7       16797  20018            Strawberries\n",
       "8       26209  19690                   Limes\n",
       "9       27845  19600      Organic Whole Milk"
      ]
     },
     "execution_count": 42,
     "metadata": {},
     "output_type": "execute_result"
    }
   ],
   "source": [
    "df_vcount = df_order_products['product_id'].value_counts().head(10).reset_index()\n",
    "df_vcount.columns = ['product_id', 'count']\n",
    "\n",
    "df_results = pd.merge(df_vcount, df_products[['product_id', 'product_name']], on='product_id')\n",
    "df_results"
   ]
  },
  {
   "cell_type": "code",
   "execution_count": 43,
   "id": "ad6a1efa",
   "metadata": {
    "id": "ad6a1efa"
   },
   "outputs": [
    {
     "name": "stdout",
     "output_type": "stream",
     "text": [
      "<class 'pandas.core.frame.DataFrame'>\n",
      "RangeIndex: 478967 entries, 0 to 478966\n",
      "Data columns (total 6 columns):\n",
      " #   Column                  Non-Null Count   Dtype  \n",
      "---  ------                  --------------   -----  \n",
      " 0   order_id                478967 non-null  int64  \n",
      " 1   user_id                 478967 non-null  int64  \n",
      " 2   order_number            478967 non-null  int64  \n",
      " 3   order_dow               478967 non-null  int64  \n",
      " 4   order_hour_of_day       478967 non-null  int64  \n",
      " 5   days_since_prior_order  450148 non-null  float64\n",
      "dtypes: float64(1), int64(5)\n",
      "memory usage: 21.9 MB\n"
     ]
    }
   ],
   "source": [
    "#  Print the information about the dataset df_instacart_orders\n",
    "df_instacart_orders.info()"
   ]
  },
  {
   "cell_type": "markdown",
   "id": "b362f862",
   "metadata": {},
   "source": [
    "Note: Within df_instacart there are missing values ​​in days_since_pior_order."
   ]
  },
  {
   "cell_type": "code",
   "execution_count": 44,
   "id": "5130e05e",
   "metadata": {
    "id": "5130e05e"
   },
   "outputs": [
    {
     "name": "stdout",
     "output_type": "stream",
     "text": [
      "<class 'pandas.core.frame.DataFrame'>\n",
      "RangeIndex: 49694 entries, 0 to 49693\n",
      "Data columns (total 4 columns):\n",
      " #   Column         Non-Null Count  Dtype \n",
      "---  ------         --------------  ----- \n",
      " 0   product_id     49694 non-null  int64 \n",
      " 1   product_name   48436 non-null  object\n",
      " 2   aisle_id       49694 non-null  int64 \n",
      " 3   department_id  49694 non-null  int64 \n",
      "dtypes: int64(3), object(1)\n",
      "memory usage: 1.5+ MB\n"
     ]
    }
   ],
   "source": [
    "#  Print the information about the dataset df_products\n",
    "df_products.info()"
   ]
  },
  {
   "cell_type": "markdown",
   "id": "00351c4f",
   "metadata": {},
   "source": [
    "Note: Within df_products there are missing values ​​in product_name."
   ]
  },
  {
   "cell_type": "code",
   "execution_count": 45,
   "id": "d8370c05",
   "metadata": {
    "id": "d8370c05"
   },
   "outputs": [
    {
     "name": "stdout",
     "output_type": "stream",
     "text": [
      "<class 'pandas.core.frame.DataFrame'>\n",
      "RangeIndex: 134 entries, 0 to 133\n",
      "Data columns (total 2 columns):\n",
      " #   Column    Non-Null Count  Dtype \n",
      "---  ------    --------------  ----- \n",
      " 0   aisle_id  134 non-null    int64 \n",
      " 1   aisle     134 non-null    object\n",
      "dtypes: int64(1), object(1)\n",
      "memory usage: 2.2+ KB\n"
     ]
    }
   ],
   "source": [
    "#  Print the information about the dataset df_aisles\n",
    "df_aisles.info()"
   ]
  },
  {
   "cell_type": "markdown",
   "id": "10389b74",
   "metadata": {},
   "source": [
    "Note: In df_aisles all values ​​are filled in"
   ]
  },
  {
   "cell_type": "code",
   "execution_count": 46,
   "id": "59e2090f",
   "metadata": {
    "id": "59e2090f"
   },
   "outputs": [
    {
     "name": "stdout",
     "output_type": "stream",
     "text": [
      "<class 'pandas.core.frame.DataFrame'>\n",
      "RangeIndex: 21 entries, 0 to 20\n",
      "Data columns (total 2 columns):\n",
      " #   Column         Non-Null Count  Dtype \n",
      "---  ------         --------------  ----- \n",
      " 0   department_id  21 non-null     int64 \n",
      " 1   department     21 non-null     object\n",
      "dtypes: int64(1), object(1)\n",
      "memory usage: 468.0+ bytes\n"
     ]
    }
   ],
   "source": [
    "#  Print the information about the dataset df_departments\n",
    "df_departments.info() "
   ]
  },
  {
   "cell_type": "markdown",
   "id": "df307225",
   "metadata": {},
   "source": [
    "Note: In df_departments all values ​​are filled in"
   ]
  },
  {
   "cell_type": "code",
   "execution_count": 47,
   "id": "6fc81694",
   "metadata": {
    "id": "6fc81694"
   },
   "outputs": [
    {
     "name": "stdout",
     "output_type": "stream",
     "text": [
      "<class 'pandas.core.frame.DataFrame'>\n",
      "RangeIndex: 4545007 entries, 0 to 4545006\n",
      "Data columns (total 4 columns):\n",
      " #   Column             Dtype  \n",
      "---  ------             -----  \n",
      " 0   order_id           int64  \n",
      " 1   product_id         int64  \n",
      " 2   add_to_cart_order  float64\n",
      " 3   reordered          int64  \n",
      "dtypes: float64(1), int64(3)\n",
      "memory usage: 138.7 MB\n"
     ]
    }
   ],
   "source": [
    "#  Print the information about the dataset df_order_products\n",
    "df_order_products.info()"
   ]
  },
  {
   "cell_type": "markdown",
   "id": "849a8213",
   "metadata": {},
   "source": [
    "Note: In df_order_products we have missing values ​​in add_to_cart_order"
   ]
  },
  {
   "cell_type": "markdown",
   "id": "t75BD19oaR5f",
   "metadata": {
    "id": "t75BD19oaR5f"
   },
   "source": [
    "##  Conclusions when loading the dataset"
   ]
  },
  {
   "cell_type": "markdown",
   "id": "e06b32f3",
   "metadata": {},
   "source": [
    "When using the info() method I was able to conclude that there are missing values ​​in the \"df_instacart, df_products and df_order_products\" datasets, whereas in the \"df_aisles and df_departments\" datasets all values ​​are filled in"
   ]
  },
  {
   "cell_type": "markdown",
   "id": "8RJHqxVmaVsF",
   "metadata": {
    "id": "8RJHqxVmaVsF"
   },
   "source": [
    "## Data preparation"
   ]
  },
  {
   "cell_type": "markdown",
   "id": "f179f0a9",
   "metadata": {
    "id": "f179f0a9"
   },
   "source": [
    "# df_instacart_orders"
   ]
  },
  {
   "cell_type": "code",
   "execution_count": 48,
   "id": "b99297a5-405a-463d-8535-9adc3da4ad74",
   "metadata": {
    "id": "b99297a5-405a-463d-8535-9adc3da4ad74"
   },
   "outputs": [
    {
     "data": {
      "text/plain": [
       "15"
      ]
     },
     "execution_count": 48,
     "metadata": {},
     "output_type": "execute_result"
    }
   ],
   "source": [
    "# checking for duplicate orders\n",
    "df_instacart_orders[df_instacart_orders.duplicated()].shape[0]"
   ]
  },
  {
   "cell_type": "code",
   "execution_count": 49,
   "id": "74fa898d",
   "metadata": {},
   "outputs": [
    {
     "data": {
      "text/html": [
       "<div>\n",
       "<style scoped>\n",
       "    .dataframe tbody tr th:only-of-type {\n",
       "        vertical-align: middle;\n",
       "    }\n",
       "\n",
       "    .dataframe tbody tr th {\n",
       "        vertical-align: top;\n",
       "    }\n",
       "\n",
       "    .dataframe thead th {\n",
       "        text-align: right;\n",
       "    }\n",
       "</style>\n",
       "<table border=\"1\" class=\"dataframe\">\n",
       "  <thead>\n",
       "    <tr style=\"text-align: right;\">\n",
       "      <th></th>\n",
       "      <th>order_id</th>\n",
       "      <th>user_id</th>\n",
       "      <th>order_number</th>\n",
       "      <th>order_dow</th>\n",
       "      <th>order_hour_of_day</th>\n",
       "      <th>days_since_prior_order</th>\n",
       "    </tr>\n",
       "  </thead>\n",
       "  <tbody>\n",
       "    <tr>\n",
       "      <th>145574</th>\n",
       "      <td>794638</td>\n",
       "      <td>50898</td>\n",
       "      <td>24</td>\n",
       "      <td>3</td>\n",
       "      <td>2</td>\n",
       "      <td>2.0</td>\n",
       "    </tr>\n",
       "    <tr>\n",
       "      <th>223105</th>\n",
       "      <td>2160484</td>\n",
       "      <td>107525</td>\n",
       "      <td>16</td>\n",
       "      <td>3</td>\n",
       "      <td>2</td>\n",
       "      <td>30.0</td>\n",
       "    </tr>\n",
       "    <tr>\n",
       "      <th>230807</th>\n",
       "      <td>1918001</td>\n",
       "      <td>188546</td>\n",
       "      <td>14</td>\n",
       "      <td>3</td>\n",
       "      <td>2</td>\n",
       "      <td>16.0</td>\n",
       "    </tr>\n",
       "    <tr>\n",
       "      <th>266232</th>\n",
       "      <td>1782114</td>\n",
       "      <td>106752</td>\n",
       "      <td>1</td>\n",
       "      <td>3</td>\n",
       "      <td>2</td>\n",
       "      <td>NaN</td>\n",
       "    </tr>\n",
       "    <tr>\n",
       "      <th>273805</th>\n",
       "      <td>1112182</td>\n",
       "      <td>202304</td>\n",
       "      <td>84</td>\n",
       "      <td>3</td>\n",
       "      <td>2</td>\n",
       "      <td>6.0</td>\n",
       "    </tr>\n",
       "    <tr>\n",
       "      <th>284038</th>\n",
       "      <td>2845099</td>\n",
       "      <td>31189</td>\n",
       "      <td>11</td>\n",
       "      <td>3</td>\n",
       "      <td>2</td>\n",
       "      <td>7.0</td>\n",
       "    </tr>\n",
       "    <tr>\n",
       "      <th>311713</th>\n",
       "      <td>1021560</td>\n",
       "      <td>53767</td>\n",
       "      <td>3</td>\n",
       "      <td>3</td>\n",
       "      <td>2</td>\n",
       "      <td>9.0</td>\n",
       "    </tr>\n",
       "    <tr>\n",
       "      <th>321100</th>\n",
       "      <td>408114</td>\n",
       "      <td>68324</td>\n",
       "      <td>4</td>\n",
       "      <td>3</td>\n",
       "      <td>2</td>\n",
       "      <td>18.0</td>\n",
       "    </tr>\n",
       "    <tr>\n",
       "      <th>323900</th>\n",
       "      <td>1919531</td>\n",
       "      <td>191501</td>\n",
       "      <td>32</td>\n",
       "      <td>3</td>\n",
       "      <td>2</td>\n",
       "      <td>7.0</td>\n",
       "    </tr>\n",
       "    <tr>\n",
       "      <th>345917</th>\n",
       "      <td>2232988</td>\n",
       "      <td>82565</td>\n",
       "      <td>1</td>\n",
       "      <td>3</td>\n",
       "      <td>2</td>\n",
       "      <td>NaN</td>\n",
       "    </tr>\n",
       "    <tr>\n",
       "      <th>371905</th>\n",
       "      <td>391768</td>\n",
       "      <td>57671</td>\n",
       "      <td>19</td>\n",
       "      <td>3</td>\n",
       "      <td>2</td>\n",
       "      <td>10.0</td>\n",
       "    </tr>\n",
       "    <tr>\n",
       "      <th>394347</th>\n",
       "      <td>467134</td>\n",
       "      <td>63189</td>\n",
       "      <td>21</td>\n",
       "      <td>3</td>\n",
       "      <td>2</td>\n",
       "      <td>2.0</td>\n",
       "    </tr>\n",
       "    <tr>\n",
       "      <th>411408</th>\n",
       "      <td>1286742</td>\n",
       "      <td>183220</td>\n",
       "      <td>48</td>\n",
       "      <td>3</td>\n",
       "      <td>2</td>\n",
       "      <td>4.0</td>\n",
       "    </tr>\n",
       "    <tr>\n",
       "      <th>415163</th>\n",
       "      <td>2282673</td>\n",
       "      <td>86751</td>\n",
       "      <td>49</td>\n",
       "      <td>3</td>\n",
       "      <td>2</td>\n",
       "      <td>2.0</td>\n",
       "    </tr>\n",
       "    <tr>\n",
       "      <th>441599</th>\n",
       "      <td>2125197</td>\n",
       "      <td>14050</td>\n",
       "      <td>48</td>\n",
       "      <td>3</td>\n",
       "      <td>2</td>\n",
       "      <td>3.0</td>\n",
       "    </tr>\n",
       "  </tbody>\n",
       "</table>\n",
       "</div>"
      ],
      "text/plain": [
       "        order_id  user_id  order_number  order_dow  order_hour_of_day  \\\n",
       "145574    794638    50898            24          3                  2   \n",
       "223105   2160484   107525            16          3                  2   \n",
       "230807   1918001   188546            14          3                  2   \n",
       "266232   1782114   106752             1          3                  2   \n",
       "273805   1112182   202304            84          3                  2   \n",
       "284038   2845099    31189            11          3                  2   \n",
       "311713   1021560    53767             3          3                  2   \n",
       "321100    408114    68324             4          3                  2   \n",
       "323900   1919531   191501            32          3                  2   \n",
       "345917   2232988    82565             1          3                  2   \n",
       "371905    391768    57671            19          3                  2   \n",
       "394347    467134    63189            21          3                  2   \n",
       "411408   1286742   183220            48          3                  2   \n",
       "415163   2282673    86751            49          3                  2   \n",
       "441599   2125197    14050            48          3                  2   \n",
       "\n",
       "        days_since_prior_order  \n",
       "145574                     2.0  \n",
       "223105                    30.0  \n",
       "230807                    16.0  \n",
       "266232                     NaN  \n",
       "273805                     6.0  \n",
       "284038                     7.0  \n",
       "311713                     9.0  \n",
       "321100                    18.0  \n",
       "323900                     7.0  \n",
       "345917                     NaN  \n",
       "371905                    10.0  \n",
       "394347                     2.0  \n",
       "411408                     4.0  \n",
       "415163                     2.0  \n",
       "441599                     3.0  "
      ]
     },
     "execution_count": 49,
     "metadata": {},
     "output_type": "execute_result"
    }
   ],
   "source": [
    "df_instacart_orders[df_instacart_orders.duplicated()]"
   ]
  },
  {
   "cell_type": "markdown",
   "id": "e201a689",
   "metadata": {},
   "source": [
    "Note: There are duplicate data and they have something in common, the duplicate data is linked to the same day and the same time."
   ]
  },
  {
   "cell_type": "code",
   "execution_count": 50,
   "id": "30f4d3f2",
   "metadata": {
    "scrolled": true
   },
   "outputs": [
    {
     "data": {
      "text/html": [
       "<div>\n",
       "<style scoped>\n",
       "    .dataframe tbody tr th:only-of-type {\n",
       "        vertical-align: middle;\n",
       "    }\n",
       "\n",
       "    .dataframe tbody tr th {\n",
       "        vertical-align: top;\n",
       "    }\n",
       "\n",
       "    .dataframe thead th {\n",
       "        text-align: right;\n",
       "    }\n",
       "</style>\n",
       "<table border=\"1\" class=\"dataframe\">\n",
       "  <thead>\n",
       "    <tr style=\"text-align: right;\">\n",
       "      <th></th>\n",
       "      <th>order_id</th>\n",
       "      <th>user_id</th>\n",
       "      <th>order_number</th>\n",
       "      <th>order_dow</th>\n",
       "      <th>order_hour_of_day</th>\n",
       "      <th>days_since_prior_order</th>\n",
       "    </tr>\n",
       "  </thead>\n",
       "  <tbody>\n",
       "    <tr>\n",
       "      <th>4838</th>\n",
       "      <td>2766110</td>\n",
       "      <td>162084</td>\n",
       "      <td>41</td>\n",
       "      <td>3</td>\n",
       "      <td>2</td>\n",
       "      <td>16.0</td>\n",
       "    </tr>\n",
       "    <tr>\n",
       "      <th>5156</th>\n",
       "      <td>2190225</td>\n",
       "      <td>138285</td>\n",
       "      <td>18</td>\n",
       "      <td>3</td>\n",
       "      <td>2</td>\n",
       "      <td>11.0</td>\n",
       "    </tr>\n",
       "    <tr>\n",
       "      <th>15506</th>\n",
       "      <td>553049</td>\n",
       "      <td>58599</td>\n",
       "      <td>13</td>\n",
       "      <td>3</td>\n",
       "      <td>2</td>\n",
       "      <td>7.0</td>\n",
       "    </tr>\n",
       "    <tr>\n",
       "      <th>18420</th>\n",
       "      <td>382357</td>\n",
       "      <td>120200</td>\n",
       "      <td>19</td>\n",
       "      <td>3</td>\n",
       "      <td>2</td>\n",
       "      <td>11.0</td>\n",
       "    </tr>\n",
       "    <tr>\n",
       "      <th>24691</th>\n",
       "      <td>690242</td>\n",
       "      <td>77357</td>\n",
       "      <td>2</td>\n",
       "      <td>3</td>\n",
       "      <td>2</td>\n",
       "      <td>9.0</td>\n",
       "    </tr>\n",
       "    <tr>\n",
       "      <th>...</th>\n",
       "      <td>...</td>\n",
       "      <td>...</td>\n",
       "      <td>...</td>\n",
       "      <td>...</td>\n",
       "      <td>...</td>\n",
       "      <td>...</td>\n",
       "    </tr>\n",
       "    <tr>\n",
       "      <th>457013</th>\n",
       "      <td>3384021</td>\n",
       "      <td>14881</td>\n",
       "      <td>6</td>\n",
       "      <td>3</td>\n",
       "      <td>2</td>\n",
       "      <td>30.0</td>\n",
       "    </tr>\n",
       "    <tr>\n",
       "      <th>458816</th>\n",
       "      <td>910166</td>\n",
       "      <td>164782</td>\n",
       "      <td>18</td>\n",
       "      <td>3</td>\n",
       "      <td>2</td>\n",
       "      <td>4.0</td>\n",
       "    </tr>\n",
       "    <tr>\n",
       "      <th>459635</th>\n",
       "      <td>1680532</td>\n",
       "      <td>106435</td>\n",
       "      <td>6</td>\n",
       "      <td>3</td>\n",
       "      <td>2</td>\n",
       "      <td>21.0</td>\n",
       "    </tr>\n",
       "    <tr>\n",
       "      <th>468324</th>\n",
       "      <td>222962</td>\n",
       "      <td>54979</td>\n",
       "      <td>59</td>\n",
       "      <td>3</td>\n",
       "      <td>2</td>\n",
       "      <td>3.0</td>\n",
       "    </tr>\n",
       "    <tr>\n",
       "      <th>477526</th>\n",
       "      <td>2592344</td>\n",
       "      <td>46860</td>\n",
       "      <td>38</td>\n",
       "      <td>3</td>\n",
       "      <td>2</td>\n",
       "      <td>3.0</td>\n",
       "    </tr>\n",
       "  </tbody>\n",
       "</table>\n",
       "<p>121 rows × 6 columns</p>\n",
       "</div>"
      ],
      "text/plain": [
       "        order_id  user_id  order_number  order_dow  order_hour_of_day  \\\n",
       "4838     2766110   162084            41          3                  2   \n",
       "5156     2190225   138285            18          3                  2   \n",
       "15506     553049    58599            13          3                  2   \n",
       "18420     382357   120200            19          3                  2   \n",
       "24691     690242    77357             2          3                  2   \n",
       "...          ...      ...           ...        ...                ...   \n",
       "457013   3384021    14881             6          3                  2   \n",
       "458816    910166   164782            18          3                  2   \n",
       "459635   1680532   106435             6          3                  2   \n",
       "468324    222962    54979            59          3                  2   \n",
       "477526   2592344    46860            38          3                  2   \n",
       "\n",
       "        days_since_prior_order  \n",
       "4838                      16.0  \n",
       "5156                      11.0  \n",
       "15506                      7.0  \n",
       "18420                     11.0  \n",
       "24691                      9.0  \n",
       "...                        ...  \n",
       "457013                    30.0  \n",
       "458816                     4.0  \n",
       "459635                    21.0  \n",
       "468324                     3.0  \n",
       "477526                     3.0  \n",
       "\n",
       "[121 rows x 6 columns]"
      ]
     },
     "execution_count": 50,
     "metadata": {},
     "output_type": "execute_result"
    }
   ],
   "source": [
    "# Checking all orders placed at 2am on Wednesdays.\n",
    "df_instacart_orders[(df_instacart_orders['order_hour_of_day'] == 2) & (df_instacart_orders['order_dow'] == 3)]"
   ]
  },
  {
   "cell_type": "markdown",
   "id": "2dd0c9f0",
   "metadata": {},
   "source": [
    "Note: The Instacart application may have presented some instability or failure as all duplicate values are on the same day (day 3) and at the same time of day (time 2:00)."
   ]
  },
  {
   "cell_type": "code",
   "execution_count": 51,
   "id": "9b5d4ac1",
   "metadata": {},
   "outputs": [],
   "source": [
    "# Deleting duplicate orders\n",
    "df_instacart_orders.reset_index(drop=True, inplace=True)"
   ]
  },
  {
   "cell_type": "code",
   "execution_count": 52,
   "id": "065c0c39",
   "metadata": {},
   "outputs": [
    {
     "data": {
      "text/plain": [
       "15"
      ]
     },
     "execution_count": 52,
     "metadata": {},
     "output_type": "execute_result"
    }
   ],
   "source": [
    "# Checking for duplicate rows again\n",
    "df_instacart_orders[df_instacart_orders.duplicated()].shape[0]"
   ]
  },
  {
   "cell_type": "code",
   "execution_count": 53,
   "id": "2edbc3ec",
   "metadata": {},
   "outputs": [
    {
     "data": {
      "text/html": [
       "<div>\n",
       "<style scoped>\n",
       "    .dataframe tbody tr th:only-of-type {\n",
       "        vertical-align: middle;\n",
       "    }\n",
       "\n",
       "    .dataframe tbody tr th {\n",
       "        vertical-align: top;\n",
       "    }\n",
       "\n",
       "    .dataframe thead th {\n",
       "        text-align: right;\n",
       "    }\n",
       "</style>\n",
       "<table border=\"1\" class=\"dataframe\">\n",
       "  <thead>\n",
       "    <tr style=\"text-align: right;\">\n",
       "      <th></th>\n",
       "      <th>order_id</th>\n",
       "      <th>user_id</th>\n",
       "      <th>order_number</th>\n",
       "      <th>order_dow</th>\n",
       "      <th>order_hour_of_day</th>\n",
       "      <th>days_since_prior_order</th>\n",
       "    </tr>\n",
       "  </thead>\n",
       "  <tbody>\n",
       "    <tr>\n",
       "      <th>145574</th>\n",
       "      <td>794638</td>\n",
       "      <td>50898</td>\n",
       "      <td>24</td>\n",
       "      <td>3</td>\n",
       "      <td>2</td>\n",
       "      <td>2.0</td>\n",
       "    </tr>\n",
       "    <tr>\n",
       "      <th>223105</th>\n",
       "      <td>2160484</td>\n",
       "      <td>107525</td>\n",
       "      <td>16</td>\n",
       "      <td>3</td>\n",
       "      <td>2</td>\n",
       "      <td>30.0</td>\n",
       "    </tr>\n",
       "    <tr>\n",
       "      <th>230807</th>\n",
       "      <td>1918001</td>\n",
       "      <td>188546</td>\n",
       "      <td>14</td>\n",
       "      <td>3</td>\n",
       "      <td>2</td>\n",
       "      <td>16.0</td>\n",
       "    </tr>\n",
       "    <tr>\n",
       "      <th>266232</th>\n",
       "      <td>1782114</td>\n",
       "      <td>106752</td>\n",
       "      <td>1</td>\n",
       "      <td>3</td>\n",
       "      <td>2</td>\n",
       "      <td>NaN</td>\n",
       "    </tr>\n",
       "    <tr>\n",
       "      <th>273805</th>\n",
       "      <td>1112182</td>\n",
       "      <td>202304</td>\n",
       "      <td>84</td>\n",
       "      <td>3</td>\n",
       "      <td>2</td>\n",
       "      <td>6.0</td>\n",
       "    </tr>\n",
       "    <tr>\n",
       "      <th>284038</th>\n",
       "      <td>2845099</td>\n",
       "      <td>31189</td>\n",
       "      <td>11</td>\n",
       "      <td>3</td>\n",
       "      <td>2</td>\n",
       "      <td>7.0</td>\n",
       "    </tr>\n",
       "    <tr>\n",
       "      <th>311713</th>\n",
       "      <td>1021560</td>\n",
       "      <td>53767</td>\n",
       "      <td>3</td>\n",
       "      <td>3</td>\n",
       "      <td>2</td>\n",
       "      <td>9.0</td>\n",
       "    </tr>\n",
       "    <tr>\n",
       "      <th>321100</th>\n",
       "      <td>408114</td>\n",
       "      <td>68324</td>\n",
       "      <td>4</td>\n",
       "      <td>3</td>\n",
       "      <td>2</td>\n",
       "      <td>18.0</td>\n",
       "    </tr>\n",
       "    <tr>\n",
       "      <th>323900</th>\n",
       "      <td>1919531</td>\n",
       "      <td>191501</td>\n",
       "      <td>32</td>\n",
       "      <td>3</td>\n",
       "      <td>2</td>\n",
       "      <td>7.0</td>\n",
       "    </tr>\n",
       "    <tr>\n",
       "      <th>345917</th>\n",
       "      <td>2232988</td>\n",
       "      <td>82565</td>\n",
       "      <td>1</td>\n",
       "      <td>3</td>\n",
       "      <td>2</td>\n",
       "      <td>NaN</td>\n",
       "    </tr>\n",
       "    <tr>\n",
       "      <th>371905</th>\n",
       "      <td>391768</td>\n",
       "      <td>57671</td>\n",
       "      <td>19</td>\n",
       "      <td>3</td>\n",
       "      <td>2</td>\n",
       "      <td>10.0</td>\n",
       "    </tr>\n",
       "    <tr>\n",
       "      <th>394347</th>\n",
       "      <td>467134</td>\n",
       "      <td>63189</td>\n",
       "      <td>21</td>\n",
       "      <td>3</td>\n",
       "      <td>2</td>\n",
       "      <td>2.0</td>\n",
       "    </tr>\n",
       "    <tr>\n",
       "      <th>411408</th>\n",
       "      <td>1286742</td>\n",
       "      <td>183220</td>\n",
       "      <td>48</td>\n",
       "      <td>3</td>\n",
       "      <td>2</td>\n",
       "      <td>4.0</td>\n",
       "    </tr>\n",
       "    <tr>\n",
       "      <th>415163</th>\n",
       "      <td>2282673</td>\n",
       "      <td>86751</td>\n",
       "      <td>49</td>\n",
       "      <td>3</td>\n",
       "      <td>2</td>\n",
       "      <td>2.0</td>\n",
       "    </tr>\n",
       "    <tr>\n",
       "      <th>441599</th>\n",
       "      <td>2125197</td>\n",
       "      <td>14050</td>\n",
       "      <td>48</td>\n",
       "      <td>3</td>\n",
       "      <td>2</td>\n",
       "      <td>3.0</td>\n",
       "    </tr>\n",
       "  </tbody>\n",
       "</table>\n",
       "</div>"
      ],
      "text/plain": [
       "        order_id  user_id  order_number  order_dow  order_hour_of_day  \\\n",
       "145574    794638    50898            24          3                  2   \n",
       "223105   2160484   107525            16          3                  2   \n",
       "230807   1918001   188546            14          3                  2   \n",
       "266232   1782114   106752             1          3                  2   \n",
       "273805   1112182   202304            84          3                  2   \n",
       "284038   2845099    31189            11          3                  2   \n",
       "311713   1021560    53767             3          3                  2   \n",
       "321100    408114    68324             4          3                  2   \n",
       "323900   1919531   191501            32          3                  2   \n",
       "345917   2232988    82565             1          3                  2   \n",
       "371905    391768    57671            19          3                  2   \n",
       "394347    467134    63189            21          3                  2   \n",
       "411408   1286742   183220            48          3                  2   \n",
       "415163   2282673    86751            49          3                  2   \n",
       "441599   2125197    14050            48          3                  2   \n",
       "\n",
       "        days_since_prior_order  \n",
       "145574                     2.0  \n",
       "223105                    30.0  \n",
       "230807                    16.0  \n",
       "266232                     NaN  \n",
       "273805                     6.0  \n",
       "284038                     7.0  \n",
       "311713                     9.0  \n",
       "321100                    18.0  \n",
       "323900                     7.0  \n",
       "345917                     NaN  \n",
       "371905                    10.0  \n",
       "394347                     2.0  \n",
       "411408                     4.0  \n",
       "415163                     2.0  \n",
       "441599                     3.0  "
      ]
     },
     "execution_count": 53,
     "metadata": {},
     "output_type": "execute_result"
    }
   ],
   "source": [
    "# Checking again only the duplicate order IDs.\n",
    "df_instacart_orders[df_instacart_orders.duplicated()]"
   ]
  },
  {
   "cell_type": "markdown",
   "id": "e1be5e3f",
   "metadata": {},
   "source": [
    "# Conclusion after preparing the dataset df_instacart_orders data.\n",
    "\n",
    "By modifying the instacart_orders data and removing duplicates, it is possible to observe a significant improvement in the analysis, as there are no longer duplicated values that could complicate the analysis of the days customers placed their orders and the busiest hours."
   ]
  },
  {
   "cell_type": "markdown",
   "id": "45e6bc46",
   "metadata": {
    "id": "45e6bc46"
   },
   "source": [
    "# df_products"
   ]
  },
  {
   "cell_type": "code",
   "execution_count": 54,
   "id": "a51188dd",
   "metadata": {},
   "outputs": [
    {
     "data": {
      "text/html": [
       "<div>\n",
       "<style scoped>\n",
       "    .dataframe tbody tr th:only-of-type {\n",
       "        vertical-align: middle;\n",
       "    }\n",
       "\n",
       "    .dataframe tbody tr th {\n",
       "        vertical-align: top;\n",
       "    }\n",
       "\n",
       "    .dataframe thead th {\n",
       "        text-align: right;\n",
       "    }\n",
       "</style>\n",
       "<table border=\"1\" class=\"dataframe\">\n",
       "  <thead>\n",
       "    <tr style=\"text-align: right;\">\n",
       "      <th></th>\n",
       "      <th>product_id</th>\n",
       "      <th>product_name</th>\n",
       "      <th>aisle_id</th>\n",
       "      <th>department_id</th>\n",
       "    </tr>\n",
       "  </thead>\n",
       "  <tbody>\n",
       "    <tr>\n",
       "      <th>0</th>\n",
       "      <td>1</td>\n",
       "      <td>Chocolate Sandwich Cookies</td>\n",
       "      <td>61</td>\n",
       "      <td>19</td>\n",
       "    </tr>\n",
       "    <tr>\n",
       "      <th>1</th>\n",
       "      <td>2</td>\n",
       "      <td>All-Seasons Salt</td>\n",
       "      <td>104</td>\n",
       "      <td>13</td>\n",
       "    </tr>\n",
       "    <tr>\n",
       "      <th>2</th>\n",
       "      <td>3</td>\n",
       "      <td>Robust Golden Unsweetened Oolong Tea</td>\n",
       "      <td>94</td>\n",
       "      <td>7</td>\n",
       "    </tr>\n",
       "    <tr>\n",
       "      <th>3</th>\n",
       "      <td>4</td>\n",
       "      <td>Smart Ones Classic Favorites Mini Rigatoni Wit...</td>\n",
       "      <td>38</td>\n",
       "      <td>1</td>\n",
       "    </tr>\n",
       "    <tr>\n",
       "      <th>4</th>\n",
       "      <td>5</td>\n",
       "      <td>Green Chile Anytime Sauce</td>\n",
       "      <td>5</td>\n",
       "      <td>13</td>\n",
       "    </tr>\n",
       "    <tr>\n",
       "      <th>...</th>\n",
       "      <td>...</td>\n",
       "      <td>...</td>\n",
       "      <td>...</td>\n",
       "      <td>...</td>\n",
       "    </tr>\n",
       "    <tr>\n",
       "      <th>49689</th>\n",
       "      <td>49690</td>\n",
       "      <td>HIGH PERFORMANCE ENERGY DRINK</td>\n",
       "      <td>64</td>\n",
       "      <td>7</td>\n",
       "    </tr>\n",
       "    <tr>\n",
       "      <th>49690</th>\n",
       "      <td>49691</td>\n",
       "      <td>ORIGINAL PANCAKE &amp; WAFFLE MIX</td>\n",
       "      <td>130</td>\n",
       "      <td>14</td>\n",
       "    </tr>\n",
       "    <tr>\n",
       "      <th>49691</th>\n",
       "      <td>49692</td>\n",
       "      <td>ORGANIC INSTANT OATMEAL LIGHT MAPLE BROWN SUGAR</td>\n",
       "      <td>130</td>\n",
       "      <td>14</td>\n",
       "    </tr>\n",
       "    <tr>\n",
       "      <th>49692</th>\n",
       "      <td>49693</td>\n",
       "      <td>SPRING WATER BODY WASH</td>\n",
       "      <td>127</td>\n",
       "      <td>11</td>\n",
       "    </tr>\n",
       "    <tr>\n",
       "      <th>49693</th>\n",
       "      <td>49694</td>\n",
       "      <td>BURRITO- STEAK &amp; CHEESE</td>\n",
       "      <td>38</td>\n",
       "      <td>1</td>\n",
       "    </tr>\n",
       "  </tbody>\n",
       "</table>\n",
       "<p>49694 rows × 4 columns</p>\n",
       "</div>"
      ],
      "text/plain": [
       "       product_id                                       product_name  \\\n",
       "0               1                         Chocolate Sandwich Cookies   \n",
       "1               2                                   All-Seasons Salt   \n",
       "2               3               Robust Golden Unsweetened Oolong Tea   \n",
       "3               4  Smart Ones Classic Favorites Mini Rigatoni Wit...   \n",
       "4               5                          Green Chile Anytime Sauce   \n",
       "...           ...                                                ...   \n",
       "49689       49690                      HIGH PERFORMANCE ENERGY DRINK   \n",
       "49690       49691                      ORIGINAL PANCAKE & WAFFLE MIX   \n",
       "49691       49692    ORGANIC INSTANT OATMEAL LIGHT MAPLE BROWN SUGAR   \n",
       "49692       49693                             SPRING WATER BODY WASH   \n",
       "49693       49694                            BURRITO- STEAK & CHEESE   \n",
       "\n",
       "       aisle_id  department_id  \n",
       "0            61             19  \n",
       "1           104             13  \n",
       "2            94              7  \n",
       "3            38              1  \n",
       "4             5             13  \n",
       "...         ...            ...  \n",
       "49689        64              7  \n",
       "49690       130             14  \n",
       "49691       130             14  \n",
       "49692       127             11  \n",
       "49693        38              1  \n",
       "\n",
       "[49694 rows x 4 columns]"
      ]
     },
     "execution_count": 54,
     "metadata": {},
     "output_type": "execute_result"
    }
   ],
   "source": [
    "df_products"
   ]
  },
  {
   "cell_type": "code",
   "execution_count": 55,
   "id": "5f526b5b-8175-46fa-a0fd-441767d50e64",
   "metadata": {
    "id": "5f526b5b-8175-46fa-a0fd-441767d50e64"
   },
   "outputs": [
    {
     "data": {
      "text/plain": [
       "4"
      ]
     },
     "execution_count": 55,
     "metadata": {},
     "output_type": "execute_result"
    }
   ],
   "source": [
    "# Checking for duplicated rows\n",
    "df_products[df_products.duplicated()].shape[1]"
   ]
  },
  {
   "cell_type": "code",
   "execution_count": 56,
   "id": "88daa4f4",
   "metadata": {
    "id": "88daa4f4"
   },
   "outputs": [],
   "source": [
    "# Checking for duplicate product ID´s.\n",
    "duplicated_products_ids = df_products[df_products.duplicated(subset=['department_id'])]"
   ]
  },
  {
   "cell_type": "code",
   "execution_count": 57,
   "id": "75976e79",
   "metadata": {},
   "outputs": [],
   "source": [
    "# Converting names to lowercase\n",
    "df_products['product_name_lower'] = df_products['product_name'].str.lower()"
   ]
  },
  {
   "cell_type": "code",
   "execution_count": 58,
   "id": "d966065d",
   "metadata": {},
   "outputs": [],
   "source": [
    "# Checking for duplicate product names that are not missing\n",
    "duplicated_products_not_missing = df_products[df_products.duplicated(subset=['product_name_lower'], keep=False) & ~df_products['product_name_lower'].isnull()]"
   ]
  },
  {
   "cell_type": "code",
   "execution_count": 59,
   "id": "327a6b69",
   "metadata": {},
   "outputs": [
    {
     "data": {
      "text/html": [
       "<div>\n",
       "<style scoped>\n",
       "    .dataframe tbody tr th:only-of-type {\n",
       "        vertical-align: middle;\n",
       "    }\n",
       "\n",
       "    .dataframe tbody tr th {\n",
       "        vertical-align: top;\n",
       "    }\n",
       "\n",
       "    .dataframe thead th {\n",
       "        text-align: right;\n",
       "    }\n",
       "</style>\n",
       "<table border=\"1\" class=\"dataframe\">\n",
       "  <thead>\n",
       "    <tr style=\"text-align: right;\">\n",
       "      <th></th>\n",
       "      <th>product_id</th>\n",
       "      <th>product_name</th>\n",
       "      <th>aisle_id</th>\n",
       "      <th>department_id</th>\n",
       "      <th>product_name_lower</th>\n",
       "    </tr>\n",
       "  </thead>\n",
       "  <tbody>\n",
       "    <tr>\n",
       "      <th>41</th>\n",
       "      <td>42</td>\n",
       "      <td>Biotin 1000 mcg</td>\n",
       "      <td>47</td>\n",
       "      <td>11</td>\n",
       "      <td>biotin 1000 mcg</td>\n",
       "    </tr>\n",
       "    <tr>\n",
       "      <th>185</th>\n",
       "      <td>186</td>\n",
       "      <td>Fresh Scent Dishwasher Detergent with Dawn</td>\n",
       "      <td>74</td>\n",
       "      <td>17</td>\n",
       "      <td>fresh scent dishwasher detergent with dawn</td>\n",
       "    </tr>\n",
       "    <tr>\n",
       "      <th>515</th>\n",
       "      <td>516</td>\n",
       "      <td>American Cheese Slices</td>\n",
       "      <td>21</td>\n",
       "      <td>16</td>\n",
       "      <td>american cheese slices</td>\n",
       "    </tr>\n",
       "    <tr>\n",
       "      <th>1538</th>\n",
       "      <td>1539</td>\n",
       "      <td>Cauliflower head</td>\n",
       "      <td>83</td>\n",
       "      <td>4</td>\n",
       "      <td>cauliflower head</td>\n",
       "    </tr>\n",
       "    <tr>\n",
       "      <th>1783</th>\n",
       "      <td>1784</td>\n",
       "      <td>NUTrition Protein Mix Blueberry Nut</td>\n",
       "      <td>117</td>\n",
       "      <td>19</td>\n",
       "      <td>nutrition protein mix blueberry nut</td>\n",
       "    </tr>\n",
       "    <tr>\n",
       "      <th>...</th>\n",
       "      <td>...</td>\n",
       "      <td>...</td>\n",
       "      <td>...</td>\n",
       "      <td>...</td>\n",
       "      <td>...</td>\n",
       "    </tr>\n",
       "    <tr>\n",
       "      <th>49689</th>\n",
       "      <td>49690</td>\n",
       "      <td>HIGH PERFORMANCE ENERGY DRINK</td>\n",
       "      <td>64</td>\n",
       "      <td>7</td>\n",
       "      <td>high performance energy drink</td>\n",
       "    </tr>\n",
       "    <tr>\n",
       "      <th>49690</th>\n",
       "      <td>49691</td>\n",
       "      <td>ORIGINAL PANCAKE &amp; WAFFLE MIX</td>\n",
       "      <td>130</td>\n",
       "      <td>14</td>\n",
       "      <td>original pancake &amp; waffle mix</td>\n",
       "    </tr>\n",
       "    <tr>\n",
       "      <th>49691</th>\n",
       "      <td>49692</td>\n",
       "      <td>ORGANIC INSTANT OATMEAL LIGHT MAPLE BROWN SUGAR</td>\n",
       "      <td>130</td>\n",
       "      <td>14</td>\n",
       "      <td>organic instant oatmeal light maple brown sugar</td>\n",
       "    </tr>\n",
       "    <tr>\n",
       "      <th>49692</th>\n",
       "      <td>49693</td>\n",
       "      <td>SPRING WATER BODY WASH</td>\n",
       "      <td>127</td>\n",
       "      <td>11</td>\n",
       "      <td>spring water body wash</td>\n",
       "    </tr>\n",
       "    <tr>\n",
       "      <th>49693</th>\n",
       "      <td>49694</td>\n",
       "      <td>BURRITO- STEAK &amp; CHEESE</td>\n",
       "      <td>38</td>\n",
       "      <td>1</td>\n",
       "      <td>burrito- steak &amp; cheese</td>\n",
       "    </tr>\n",
       "  </tbody>\n",
       "</table>\n",
       "<p>207 rows × 5 columns</p>\n",
       "</div>"
      ],
      "text/plain": [
       "       product_id                                     product_name  aisle_id  \\\n",
       "41             42                                  Biotin 1000 mcg        47   \n",
       "185           186       Fresh Scent Dishwasher Detergent with Dawn        74   \n",
       "515           516                           American Cheese Slices        21   \n",
       "1538         1539                                 Cauliflower head        83   \n",
       "1783         1784              NUTrition Protein Mix Blueberry Nut       117   \n",
       "...           ...                                              ...       ...   \n",
       "49689       49690                    HIGH PERFORMANCE ENERGY DRINK        64   \n",
       "49690       49691                    ORIGINAL PANCAKE & WAFFLE MIX       130   \n",
       "49691       49692  ORGANIC INSTANT OATMEAL LIGHT MAPLE BROWN SUGAR       130   \n",
       "49692       49693                           SPRING WATER BODY WASH       127   \n",
       "49693       49694                          BURRITO- STEAK & CHEESE        38   \n",
       "\n",
       "       department_id                               product_name_lower  \n",
       "41                11                                  biotin 1000 mcg  \n",
       "185               17       fresh scent dishwasher detergent with dawn  \n",
       "515               16                           american cheese slices  \n",
       "1538               4                                 cauliflower head  \n",
       "1783              19              nutrition protein mix blueberry nut  \n",
       "...              ...                                              ...  \n",
       "49689              7                    high performance energy drink  \n",
       "49690             14                    original pancake & waffle mix  \n",
       "49691             14  organic instant oatmeal light maple brown sugar  \n",
       "49692             11                           spring water body wash  \n",
       "49693              1                          burrito- steak & cheese  \n",
       "\n",
       "[207 rows x 5 columns]"
      ]
     },
     "execution_count": 59,
     "metadata": {},
     "output_type": "execute_result"
    }
   ],
   "source": [
    "duplicated_products_not_missing"
   ]
  },
  {
   "cell_type": "markdown",
   "id": "be412e86",
   "metadata": {},
   "source": [
    "# Conclusion after preparing the dataset df_products data.\n",
    "In products we locate the duplicates and convert the column with the product names to lowercase to facilitate the analysis and removal of duplicates, then we use the keep=false method to locate all duplicates that are identified."
   ]
  },
  {
   "cell_type": "markdown",
   "id": "e687bc1a",
   "metadata": {
    "id": "60f30db1"
   },
   "source": [
    "# df_departments"
   ]
  },
  {
   "cell_type": "code",
   "execution_count": 60,
   "id": "e0e577e4",
   "metadata": {},
   "outputs": [
    {
     "data": {
      "text/html": [
       "<div>\n",
       "<style scoped>\n",
       "    .dataframe tbody tr th:only-of-type {\n",
       "        vertical-align: middle;\n",
       "    }\n",
       "\n",
       "    .dataframe tbody tr th {\n",
       "        vertical-align: top;\n",
       "    }\n",
       "\n",
       "    .dataframe thead th {\n",
       "        text-align: right;\n",
       "    }\n",
       "</style>\n",
       "<table border=\"1\" class=\"dataframe\">\n",
       "  <thead>\n",
       "    <tr style=\"text-align: right;\">\n",
       "      <th></th>\n",
       "      <th>department_id</th>\n",
       "      <th>department</th>\n",
       "    </tr>\n",
       "  </thead>\n",
       "  <tbody>\n",
       "    <tr>\n",
       "      <th>0</th>\n",
       "      <td>1</td>\n",
       "      <td>frozen</td>\n",
       "    </tr>\n",
       "    <tr>\n",
       "      <th>1</th>\n",
       "      <td>2</td>\n",
       "      <td>other</td>\n",
       "    </tr>\n",
       "    <tr>\n",
       "      <th>2</th>\n",
       "      <td>3</td>\n",
       "      <td>bakery</td>\n",
       "    </tr>\n",
       "    <tr>\n",
       "      <th>3</th>\n",
       "      <td>4</td>\n",
       "      <td>produce</td>\n",
       "    </tr>\n",
       "    <tr>\n",
       "      <th>4</th>\n",
       "      <td>5</td>\n",
       "      <td>alcohol</td>\n",
       "    </tr>\n",
       "    <tr>\n",
       "      <th>5</th>\n",
       "      <td>6</td>\n",
       "      <td>international</td>\n",
       "    </tr>\n",
       "    <tr>\n",
       "      <th>6</th>\n",
       "      <td>7</td>\n",
       "      <td>beverages</td>\n",
       "    </tr>\n",
       "    <tr>\n",
       "      <th>7</th>\n",
       "      <td>8</td>\n",
       "      <td>pets</td>\n",
       "    </tr>\n",
       "    <tr>\n",
       "      <th>8</th>\n",
       "      <td>9</td>\n",
       "      <td>dry goods pasta</td>\n",
       "    </tr>\n",
       "    <tr>\n",
       "      <th>9</th>\n",
       "      <td>10</td>\n",
       "      <td>bulk</td>\n",
       "    </tr>\n",
       "    <tr>\n",
       "      <th>10</th>\n",
       "      <td>11</td>\n",
       "      <td>personal care</td>\n",
       "    </tr>\n",
       "    <tr>\n",
       "      <th>11</th>\n",
       "      <td>12</td>\n",
       "      <td>meat seafood</td>\n",
       "    </tr>\n",
       "    <tr>\n",
       "      <th>12</th>\n",
       "      <td>13</td>\n",
       "      <td>pantry</td>\n",
       "    </tr>\n",
       "    <tr>\n",
       "      <th>13</th>\n",
       "      <td>14</td>\n",
       "      <td>breakfast</td>\n",
       "    </tr>\n",
       "    <tr>\n",
       "      <th>14</th>\n",
       "      <td>15</td>\n",
       "      <td>canned goods</td>\n",
       "    </tr>\n",
       "    <tr>\n",
       "      <th>15</th>\n",
       "      <td>16</td>\n",
       "      <td>dairy eggs</td>\n",
       "    </tr>\n",
       "    <tr>\n",
       "      <th>16</th>\n",
       "      <td>17</td>\n",
       "      <td>household</td>\n",
       "    </tr>\n",
       "    <tr>\n",
       "      <th>17</th>\n",
       "      <td>18</td>\n",
       "      <td>babies</td>\n",
       "    </tr>\n",
       "    <tr>\n",
       "      <th>18</th>\n",
       "      <td>19</td>\n",
       "      <td>snacks</td>\n",
       "    </tr>\n",
       "    <tr>\n",
       "      <th>19</th>\n",
       "      <td>20</td>\n",
       "      <td>deli</td>\n",
       "    </tr>\n",
       "    <tr>\n",
       "      <th>20</th>\n",
       "      <td>21</td>\n",
       "      <td>missing</td>\n",
       "    </tr>\n",
       "  </tbody>\n",
       "</table>\n",
       "</div>"
      ],
      "text/plain": [
       "    department_id       department\n",
       "0               1           frozen\n",
       "1               2            other\n",
       "2               3           bakery\n",
       "3               4          produce\n",
       "4               5          alcohol\n",
       "5               6    international\n",
       "6               7        beverages\n",
       "7               8             pets\n",
       "8               9  dry goods pasta\n",
       "9              10             bulk\n",
       "10             11    personal care\n",
       "11             12     meat seafood\n",
       "12             13           pantry\n",
       "13             14        breakfast\n",
       "14             15     canned goods\n",
       "15             16       dairy eggs\n",
       "16             17        household\n",
       "17             18           babies\n",
       "18             19           snacks\n",
       "19             20             deli\n",
       "20             21          missing"
      ]
     },
     "execution_count": 60,
     "metadata": {},
     "output_type": "execute_result"
    }
   ],
   "source": [
    "df_departments"
   ]
  },
  {
   "cell_type": "code",
   "execution_count": 61,
   "id": "e78c29c4",
   "metadata": {},
   "outputs": [
    {
     "data": {
      "text/plain": [
       "2"
      ]
     },
     "execution_count": 61,
     "metadata": {},
     "output_type": "execute_result"
    }
   ],
   "source": [
    "# Verifique se há linhas completamente duplicadas / Checking for duplicated rows.\n",
    "df_departments[df_departments.duplicated()].shape[1]"
   ]
  },
  {
   "cell_type": "code",
   "execution_count": 62,
   "id": "410813c2",
   "metadata": {},
   "outputs": [],
   "source": [
    "# Verifique apenas se há IDs dos produtos duplicados / Checking for duplicate product ID´s.\n",
    "duplicated_department_ids = df_departments[df_departments.duplicated(subset=['department_id'])]"
   ]
  },
  {
   "cell_type": "code",
   "execution_count": 63,
   "id": "9b885642",
   "metadata": {},
   "outputs": [
    {
     "data": {
      "text/html": [
       "<div>\n",
       "<style scoped>\n",
       "    .dataframe tbody tr th:only-of-type {\n",
       "        vertical-align: middle;\n",
       "    }\n",
       "\n",
       "    .dataframe tbody tr th {\n",
       "        vertical-align: top;\n",
       "    }\n",
       "\n",
       "    .dataframe thead th {\n",
       "        text-align: right;\n",
       "    }\n",
       "</style>\n",
       "<table border=\"1\" class=\"dataframe\">\n",
       "  <thead>\n",
       "    <tr style=\"text-align: right;\">\n",
       "      <th></th>\n",
       "      <th>department_id</th>\n",
       "      <th>department</th>\n",
       "    </tr>\n",
       "  </thead>\n",
       "  <tbody>\n",
       "  </tbody>\n",
       "</table>\n",
       "</div>"
      ],
      "text/plain": [
       "Empty DataFrame\n",
       "Columns: [department_id, department]\n",
       "Index: []"
      ]
     },
     "execution_count": 63,
     "metadata": {},
     "output_type": "execute_result"
    }
   ],
   "source": [
    "duplicated_department_ids"
   ]
  },
  {
   "cell_type": "markdown",
   "id": "0084735e",
   "metadata": {},
   "source": [
    "# Conclusion after preparing the dataset df_departments data.\n",
    "Only 2 rows with duplicate data were found.\n"
   ]
  },
  {
   "cell_type": "markdown",
   "id": "889349c1",
   "metadata": {
    "id": "889349c1"
   },
   "source": [
    "# df_aisles"
   ]
  },
  {
   "cell_type": "code",
   "execution_count": 64,
   "id": "7a9fb466",
   "metadata": {},
   "outputs": [
    {
     "data": {
      "text/html": [
       "<div>\n",
       "<style scoped>\n",
       "    .dataframe tbody tr th:only-of-type {\n",
       "        vertical-align: middle;\n",
       "    }\n",
       "\n",
       "    .dataframe tbody tr th {\n",
       "        vertical-align: top;\n",
       "    }\n",
       "\n",
       "    .dataframe thead th {\n",
       "        text-align: right;\n",
       "    }\n",
       "</style>\n",
       "<table border=\"1\" class=\"dataframe\">\n",
       "  <thead>\n",
       "    <tr style=\"text-align: right;\">\n",
       "      <th></th>\n",
       "      <th>aisle_id</th>\n",
       "      <th>aisle</th>\n",
       "    </tr>\n",
       "  </thead>\n",
       "  <tbody>\n",
       "    <tr>\n",
       "      <th>0</th>\n",
       "      <td>1</td>\n",
       "      <td>prepared soups salads</td>\n",
       "    </tr>\n",
       "    <tr>\n",
       "      <th>1</th>\n",
       "      <td>2</td>\n",
       "      <td>specialty cheeses</td>\n",
       "    </tr>\n",
       "    <tr>\n",
       "      <th>2</th>\n",
       "      <td>3</td>\n",
       "      <td>energy granola bars</td>\n",
       "    </tr>\n",
       "    <tr>\n",
       "      <th>3</th>\n",
       "      <td>4</td>\n",
       "      <td>instant foods</td>\n",
       "    </tr>\n",
       "    <tr>\n",
       "      <th>4</th>\n",
       "      <td>5</td>\n",
       "      <td>marinades meat preparation</td>\n",
       "    </tr>\n",
       "    <tr>\n",
       "      <th>...</th>\n",
       "      <td>...</td>\n",
       "      <td>...</td>\n",
       "    </tr>\n",
       "    <tr>\n",
       "      <th>129</th>\n",
       "      <td>130</td>\n",
       "      <td>hot cereal pancake mixes</td>\n",
       "    </tr>\n",
       "    <tr>\n",
       "      <th>130</th>\n",
       "      <td>131</td>\n",
       "      <td>dry pasta</td>\n",
       "    </tr>\n",
       "    <tr>\n",
       "      <th>131</th>\n",
       "      <td>132</td>\n",
       "      <td>beauty</td>\n",
       "    </tr>\n",
       "    <tr>\n",
       "      <th>132</th>\n",
       "      <td>133</td>\n",
       "      <td>muscles joints pain relief</td>\n",
       "    </tr>\n",
       "    <tr>\n",
       "      <th>133</th>\n",
       "      <td>134</td>\n",
       "      <td>specialty wines champagnes</td>\n",
       "    </tr>\n",
       "  </tbody>\n",
       "</table>\n",
       "<p>134 rows × 2 columns</p>\n",
       "</div>"
      ],
      "text/plain": [
       "     aisle_id                       aisle\n",
       "0           1       prepared soups salads\n",
       "1           2           specialty cheeses\n",
       "2           3         energy granola bars\n",
       "3           4               instant foods\n",
       "4           5  marinades meat preparation\n",
       "..        ...                         ...\n",
       "129       130    hot cereal pancake mixes\n",
       "130       131                   dry pasta\n",
       "131       132                      beauty\n",
       "132       133  muscles joints pain relief\n",
       "133       134  specialty wines champagnes\n",
       "\n",
       "[134 rows x 2 columns]"
      ]
     },
     "execution_count": 64,
     "metadata": {},
     "output_type": "execute_result"
    }
   ],
   "source": [
    "df_aisles"
   ]
  },
  {
   "cell_type": "code",
   "execution_count": 65,
   "id": "65271aa7",
   "metadata": {},
   "outputs": [
    {
     "data": {
      "text/plain": [
       "2"
      ]
     },
     "execution_count": 65,
     "metadata": {},
     "output_type": "execute_result"
    }
   ],
   "source": [
    "# Checking for duplicated rows.\n",
    "df_aisles[df_aisles.duplicated()].shape[1]"
   ]
  },
  {
   "cell_type": "code",
   "execution_count": 66,
   "id": "b7394614",
   "metadata": {},
   "outputs": [],
   "source": [
    "# Checking for duplicate product ID´s.\n",
    "duplicated_aisles_ids = df_aisles[df_aisles.duplicated(subset=['aisle_id'])]"
   ]
  },
  {
   "cell_type": "code",
   "execution_count": 67,
   "id": "87fcc9dd",
   "metadata": {},
   "outputs": [
    {
     "data": {
      "text/html": [
       "<div>\n",
       "<style scoped>\n",
       "    .dataframe tbody tr th:only-of-type {\n",
       "        vertical-align: middle;\n",
       "    }\n",
       "\n",
       "    .dataframe tbody tr th {\n",
       "        vertical-align: top;\n",
       "    }\n",
       "\n",
       "    .dataframe thead th {\n",
       "        text-align: right;\n",
       "    }\n",
       "</style>\n",
       "<table border=\"1\" class=\"dataframe\">\n",
       "  <thead>\n",
       "    <tr style=\"text-align: right;\">\n",
       "      <th></th>\n",
       "      <th>aisle_id</th>\n",
       "      <th>aisle</th>\n",
       "    </tr>\n",
       "  </thead>\n",
       "  <tbody>\n",
       "  </tbody>\n",
       "</table>\n",
       "</div>"
      ],
      "text/plain": [
       "Empty DataFrame\n",
       "Columns: [aisle_id, aisle]\n",
       "Index: []"
      ]
     },
     "execution_count": 67,
     "metadata": {},
     "output_type": "execute_result"
    }
   ],
   "source": [
    "duplicated_aisles_ids"
   ]
  },
  {
   "cell_type": "markdown",
   "id": "a04d639d",
   "metadata": {},
   "source": [
    "# Conclusion after preparing the dataset df_aisles data.\n",
    "Only 2 rows with duplicate data were found."
   ]
  },
  {
   "cell_type": "markdown",
   "id": "274cd06a",
   "metadata": {
    "id": "274cd06a"
   },
   "source": [
    "# df_order_products"
   ]
  },
  {
   "cell_type": "code",
   "execution_count": 68,
   "id": "26002fdd",
   "metadata": {},
   "outputs": [
    {
     "data": {
      "text/html": [
       "<div>\n",
       "<style scoped>\n",
       "    .dataframe tbody tr th:only-of-type {\n",
       "        vertical-align: middle;\n",
       "    }\n",
       "\n",
       "    .dataframe tbody tr th {\n",
       "        vertical-align: top;\n",
       "    }\n",
       "\n",
       "    .dataframe thead th {\n",
       "        text-align: right;\n",
       "    }\n",
       "</style>\n",
       "<table border=\"1\" class=\"dataframe\">\n",
       "  <thead>\n",
       "    <tr style=\"text-align: right;\">\n",
       "      <th></th>\n",
       "      <th>order_id</th>\n",
       "      <th>product_id</th>\n",
       "      <th>add_to_cart_order</th>\n",
       "      <th>reordered</th>\n",
       "    </tr>\n",
       "  </thead>\n",
       "  <tbody>\n",
       "    <tr>\n",
       "      <th>0</th>\n",
       "      <td>2141543</td>\n",
       "      <td>11440</td>\n",
       "      <td>17.0</td>\n",
       "      <td>0</td>\n",
       "    </tr>\n",
       "    <tr>\n",
       "      <th>1</th>\n",
       "      <td>567889</td>\n",
       "      <td>1560</td>\n",
       "      <td>1.0</td>\n",
       "      <td>1</td>\n",
       "    </tr>\n",
       "    <tr>\n",
       "      <th>2</th>\n",
       "      <td>2261212</td>\n",
       "      <td>26683</td>\n",
       "      <td>1.0</td>\n",
       "      <td>1</td>\n",
       "    </tr>\n",
       "    <tr>\n",
       "      <th>3</th>\n",
       "      <td>491251</td>\n",
       "      <td>8670</td>\n",
       "      <td>35.0</td>\n",
       "      <td>1</td>\n",
       "    </tr>\n",
       "    <tr>\n",
       "      <th>4</th>\n",
       "      <td>2571142</td>\n",
       "      <td>1940</td>\n",
       "      <td>5.0</td>\n",
       "      <td>1</td>\n",
       "    </tr>\n",
       "    <tr>\n",
       "      <th>...</th>\n",
       "      <td>...</td>\n",
       "      <td>...</td>\n",
       "      <td>...</td>\n",
       "      <td>...</td>\n",
       "    </tr>\n",
       "    <tr>\n",
       "      <th>4545002</th>\n",
       "      <td>577211</td>\n",
       "      <td>15290</td>\n",
       "      <td>12.0</td>\n",
       "      <td>1</td>\n",
       "    </tr>\n",
       "    <tr>\n",
       "      <th>4545003</th>\n",
       "      <td>1219554</td>\n",
       "      <td>21914</td>\n",
       "      <td>9.0</td>\n",
       "      <td>0</td>\n",
       "    </tr>\n",
       "    <tr>\n",
       "      <th>4545004</th>\n",
       "      <td>692640</td>\n",
       "      <td>47766</td>\n",
       "      <td>4.0</td>\n",
       "      <td>1</td>\n",
       "    </tr>\n",
       "    <tr>\n",
       "      <th>4545005</th>\n",
       "      <td>319435</td>\n",
       "      <td>691</td>\n",
       "      <td>8.0</td>\n",
       "      <td>1</td>\n",
       "    </tr>\n",
       "    <tr>\n",
       "      <th>4545006</th>\n",
       "      <td>1398151</td>\n",
       "      <td>28733</td>\n",
       "      <td>9.0</td>\n",
       "      <td>0</td>\n",
       "    </tr>\n",
       "  </tbody>\n",
       "</table>\n",
       "<p>4545007 rows × 4 columns</p>\n",
       "</div>"
      ],
      "text/plain": [
       "         order_id  product_id  add_to_cart_order  reordered\n",
       "0         2141543       11440               17.0          0\n",
       "1          567889        1560                1.0          1\n",
       "2         2261212       26683                1.0          1\n",
       "3          491251        8670               35.0          1\n",
       "4         2571142        1940                5.0          1\n",
       "...           ...         ...                ...        ...\n",
       "4545002    577211       15290               12.0          1\n",
       "4545003   1219554       21914                9.0          0\n",
       "4545004    692640       47766                4.0          1\n",
       "4545005    319435         691                8.0          1\n",
       "4545006   1398151       28733                9.0          0\n",
       "\n",
       "[4545007 rows x 4 columns]"
      ]
     },
     "execution_count": 68,
     "metadata": {},
     "output_type": "execute_result"
    }
   ],
   "source": [
    "df_order_products"
   ]
  },
  {
   "cell_type": "code",
   "execution_count": 69,
   "id": "ca488f0e",
   "metadata": {},
   "outputs": [
    {
     "data": {
      "text/plain": [
       "4"
      ]
     },
     "execution_count": 69,
     "metadata": {},
     "output_type": "execute_result"
    }
   ],
   "source": [
    "# Checking for duplicated rows.\n",
    "df_order_products[df_order_products.duplicated()].shape[1]"
   ]
  },
  {
   "cell_type": "code",
   "execution_count": 70,
   "id": "3178adf5",
   "metadata": {},
   "outputs": [],
   "source": [
    "# Checking if there are any other complicated cases of duplicates.\n",
    "complicated_order_products = df_order_products[df_order_products.duplicated(keep=False)]"
   ]
  },
  {
   "cell_type": "code",
   "execution_count": 71,
   "id": "d9daeb50",
   "metadata": {},
   "outputs": [
    {
     "data": {
      "text/html": [
       "<div>\n",
       "<style scoped>\n",
       "    .dataframe tbody tr th:only-of-type {\n",
       "        vertical-align: middle;\n",
       "    }\n",
       "\n",
       "    .dataframe tbody tr th {\n",
       "        vertical-align: top;\n",
       "    }\n",
       "\n",
       "    .dataframe thead th {\n",
       "        text-align: right;\n",
       "    }\n",
       "</style>\n",
       "<table border=\"1\" class=\"dataframe\">\n",
       "  <thead>\n",
       "    <tr style=\"text-align: right;\">\n",
       "      <th></th>\n",
       "      <th>order_id</th>\n",
       "      <th>product_id</th>\n",
       "      <th>add_to_cart_order</th>\n",
       "      <th>reordered</th>\n",
       "    </tr>\n",
       "  </thead>\n",
       "  <tbody>\n",
       "  </tbody>\n",
       "</table>\n",
       "</div>"
      ],
      "text/plain": [
       "Empty DataFrame\n",
       "Columns: [order_id, product_id, add_to_cart_order, reordered]\n",
       "Index: []"
      ]
     },
     "execution_count": 71,
     "metadata": {},
     "output_type": "execute_result"
    }
   ],
   "source": [
    "complicated_order_products"
   ]
  },
  {
   "cell_type": "markdown",
   "id": "e67ebf87",
   "metadata": {},
   "source": [
    "# Conclusion after preparing the dataset df_order_products data.\n",
    "In df_order_products it was checked if there were duplicates and then using the keep=False method I checked if there were any slightly more complicated cases with this method."
   ]
  },
  {
   "cell_type": "code",
   "execution_count": 72,
   "id": "1f024f2f",
   "metadata": {},
   "outputs": [
    {
     "data": {
      "text/html": [
       "<div>\n",
       "<style scoped>\n",
       "    .dataframe tbody tr th:only-of-type {\n",
       "        vertical-align: middle;\n",
       "    }\n",
       "\n",
       "    .dataframe tbody tr th {\n",
       "        vertical-align: top;\n",
       "    }\n",
       "\n",
       "    .dataframe thead th {\n",
       "        text-align: right;\n",
       "    }\n",
       "</style>\n",
       "<table border=\"1\" class=\"dataframe\">\n",
       "  <thead>\n",
       "    <tr style=\"text-align: right;\">\n",
       "      <th></th>\n",
       "      <th>product_id</th>\n",
       "      <th>product_name</th>\n",
       "      <th>aisle_id</th>\n",
       "      <th>department_id</th>\n",
       "      <th>product_name_lower</th>\n",
       "    </tr>\n",
       "  </thead>\n",
       "  <tbody>\n",
       "    <tr>\n",
       "      <th>37</th>\n",
       "      <td>38</td>\n",
       "      <td>NaN</td>\n",
       "      <td>100</td>\n",
       "      <td>21</td>\n",
       "      <td>NaN</td>\n",
       "    </tr>\n",
       "    <tr>\n",
       "      <th>71</th>\n",
       "      <td>72</td>\n",
       "      <td>NaN</td>\n",
       "      <td>100</td>\n",
       "      <td>21</td>\n",
       "      <td>NaN</td>\n",
       "    </tr>\n",
       "    <tr>\n",
       "      <th>109</th>\n",
       "      <td>110</td>\n",
       "      <td>NaN</td>\n",
       "      <td>100</td>\n",
       "      <td>21</td>\n",
       "      <td>NaN</td>\n",
       "    </tr>\n",
       "    <tr>\n",
       "      <th>296</th>\n",
       "      <td>297</td>\n",
       "      <td>NaN</td>\n",
       "      <td>100</td>\n",
       "      <td>21</td>\n",
       "      <td>NaN</td>\n",
       "    </tr>\n",
       "    <tr>\n",
       "      <th>416</th>\n",
       "      <td>417</td>\n",
       "      <td>NaN</td>\n",
       "      <td>100</td>\n",
       "      <td>21</td>\n",
       "      <td>NaN</td>\n",
       "    </tr>\n",
       "    <tr>\n",
       "      <th>...</th>\n",
       "      <td>...</td>\n",
       "      <td>...</td>\n",
       "      <td>...</td>\n",
       "      <td>...</td>\n",
       "      <td>...</td>\n",
       "    </tr>\n",
       "    <tr>\n",
       "      <th>49552</th>\n",
       "      <td>49553</td>\n",
       "      <td>NaN</td>\n",
       "      <td>100</td>\n",
       "      <td>21</td>\n",
       "      <td>NaN</td>\n",
       "    </tr>\n",
       "    <tr>\n",
       "      <th>49574</th>\n",
       "      <td>49575</td>\n",
       "      <td>NaN</td>\n",
       "      <td>100</td>\n",
       "      <td>21</td>\n",
       "      <td>NaN</td>\n",
       "    </tr>\n",
       "    <tr>\n",
       "      <th>49640</th>\n",
       "      <td>49641</td>\n",
       "      <td>NaN</td>\n",
       "      <td>100</td>\n",
       "      <td>21</td>\n",
       "      <td>NaN</td>\n",
       "    </tr>\n",
       "    <tr>\n",
       "      <th>49663</th>\n",
       "      <td>49664</td>\n",
       "      <td>NaN</td>\n",
       "      <td>100</td>\n",
       "      <td>21</td>\n",
       "      <td>NaN</td>\n",
       "    </tr>\n",
       "    <tr>\n",
       "      <th>49668</th>\n",
       "      <td>49669</td>\n",
       "      <td>NaN</td>\n",
       "      <td>100</td>\n",
       "      <td>21</td>\n",
       "      <td>NaN</td>\n",
       "    </tr>\n",
       "  </tbody>\n",
       "</table>\n",
       "<p>1258 rows × 5 columns</p>\n",
       "</div>"
      ],
      "text/plain": [
       "       product_id product_name  aisle_id  department_id product_name_lower\n",
       "37             38          NaN       100             21                NaN\n",
       "71             72          NaN       100             21                NaN\n",
       "109           110          NaN       100             21                NaN\n",
       "296           297          NaN       100             21                NaN\n",
       "416           417          NaN       100             21                NaN\n",
       "...           ...          ...       ...            ...                ...\n",
       "49552       49553          NaN       100             21                NaN\n",
       "49574       49575          NaN       100             21                NaN\n",
       "49640       49641          NaN       100             21                NaN\n",
       "49663       49664          NaN       100             21                NaN\n",
       "49668       49669          NaN       100             21                NaN\n",
       "\n",
       "[1258 rows x 5 columns]"
      ]
     },
     "execution_count": 72,
     "metadata": {},
     "output_type": "execute_result"
    }
   ],
   "source": [
    "# Looking for missing values in column 'product_name'\n",
    "df_products[df_products['product_name'].isnull()]"
   ]
  },
  {
   "cell_type": "markdown",
   "id": "e55586cf",
   "metadata": {},
   "source": [
    "Note: Missing values ​​when Aisle_id = 100 and Department_id = 21. I can conclude that the missing values from the df_products dataframe is linked to aisle_id and department_id."
   ]
  },
  {
   "cell_type": "code",
   "execution_count": 73,
   "id": "d1ba380a",
   "metadata": {},
   "outputs": [
    {
     "data": {
      "text/plain": [
       "aisle_id\n",
       "100    1258\n",
       "Name: count, dtype: int64"
      ]
     },
     "execution_count": 73,
     "metadata": {},
     "output_type": "execute_result"
    }
   ],
   "source": [
    "# Checking if all missing product names are associated with section ID 100?\n",
    "df_products[df_products['product_name'].isnull()]['aisle_id'].value_counts()"
   ]
  },
  {
   "cell_type": "markdown",
   "id": "c6bcf9eb",
   "metadata": {},
   "source": [
    "Obs: Found 1258 missing values in aisle_id"
   ]
  },
  {
   "cell_type": "code",
   "execution_count": 74,
   "id": "929f6bcb",
   "metadata": {},
   "outputs": [
    {
     "data": {
      "text/plain": [
       "department_id\n",
       "21    1258\n",
       "Name: count, dtype: int64"
      ]
     },
     "execution_count": 74,
     "metadata": {},
     "output_type": "execute_result"
    }
   ],
   "source": [
    "# Are all missing product names associated with department ID 21?\n",
    "df_products[df_products['product_name'].isnull()]['department_id'].value_counts()"
   ]
  },
  {
   "cell_type": "markdown",
   "id": "1ceffeb6",
   "metadata": {},
   "source": [
    "Obs: Found 1258 missing values in department_id"
   ]
  },
  {
   "cell_type": "code",
   "execution_count": 75,
   "id": "325c3464",
   "metadata": {
    "id": "325c3464"
   },
   "outputs": [],
   "source": [
    "# Use the department and section tables to check the data for section ID 100 and department ID 21"
   ]
  },
  {
   "cell_type": "code",
   "execution_count": 76,
   "id": "410b089a",
   "metadata": {},
   "outputs": [
    {
     "data": {
      "text/plain": [
       "37       True\n",
       "71       True\n",
       "109      True\n",
       "296      True\n",
       "416      True\n",
       "         ... \n",
       "49552    True\n",
       "49574    True\n",
       "49640    True\n",
       "49663    True\n",
       "49668    True\n",
       "Name: department_id, Length: 1258, dtype: bool"
      ]
     },
     "execution_count": 76,
     "metadata": {},
     "output_type": "execute_result"
    }
   ],
   "source": [
    "df_products[df_products['aisle_id'] == 100]['department_id'] ==21"
   ]
  },
  {
   "cell_type": "markdown",
   "id": "c59a7c9a",
   "metadata": {},
   "source": [
    "Obs: Found 1258 missing values ​​related to Aisle_id and Department_id"
   ]
  },
  {
   "cell_type": "code",
   "execution_count": 77,
   "id": "04c62133",
   "metadata": {},
   "outputs": [],
   "source": [
    "# Filling in the missing product names with 'Unknown'.\n",
    "df_products['product_name'].fillna('Unknown', inplace=True)"
   ]
  },
  {
   "cell_type": "code",
   "execution_count": 78,
   "id": "ceb0f866",
   "metadata": {},
   "outputs": [
    {
     "data": {
      "text/html": [
       "<div>\n",
       "<style scoped>\n",
       "    .dataframe tbody tr th:only-of-type {\n",
       "        vertical-align: middle;\n",
       "    }\n",
       "\n",
       "    .dataframe tbody tr th {\n",
       "        vertical-align: top;\n",
       "    }\n",
       "\n",
       "    .dataframe thead th {\n",
       "        text-align: right;\n",
       "    }\n",
       "</style>\n",
       "<table border=\"1\" class=\"dataframe\">\n",
       "  <thead>\n",
       "    <tr style=\"text-align: right;\">\n",
       "      <th></th>\n",
       "      <th>product_id</th>\n",
       "      <th>product_name</th>\n",
       "      <th>aisle_id</th>\n",
       "      <th>department_id</th>\n",
       "      <th>product_name_lower</th>\n",
       "    </tr>\n",
       "  </thead>\n",
       "  <tbody>\n",
       "    <tr>\n",
       "      <th>37</th>\n",
       "      <td>38</td>\n",
       "      <td>Unknown</td>\n",
       "      <td>100</td>\n",
       "      <td>21</td>\n",
       "      <td>NaN</td>\n",
       "    </tr>\n",
       "    <tr>\n",
       "      <th>71</th>\n",
       "      <td>72</td>\n",
       "      <td>Unknown</td>\n",
       "      <td>100</td>\n",
       "      <td>21</td>\n",
       "      <td>NaN</td>\n",
       "    </tr>\n",
       "    <tr>\n",
       "      <th>109</th>\n",
       "      <td>110</td>\n",
       "      <td>Unknown</td>\n",
       "      <td>100</td>\n",
       "      <td>21</td>\n",
       "      <td>NaN</td>\n",
       "    </tr>\n",
       "    <tr>\n",
       "      <th>296</th>\n",
       "      <td>297</td>\n",
       "      <td>Unknown</td>\n",
       "      <td>100</td>\n",
       "      <td>21</td>\n",
       "      <td>NaN</td>\n",
       "    </tr>\n",
       "    <tr>\n",
       "      <th>416</th>\n",
       "      <td>417</td>\n",
       "      <td>Unknown</td>\n",
       "      <td>100</td>\n",
       "      <td>21</td>\n",
       "      <td>NaN</td>\n",
       "    </tr>\n",
       "    <tr>\n",
       "      <th>...</th>\n",
       "      <td>...</td>\n",
       "      <td>...</td>\n",
       "      <td>...</td>\n",
       "      <td>...</td>\n",
       "      <td>...</td>\n",
       "    </tr>\n",
       "    <tr>\n",
       "      <th>49552</th>\n",
       "      <td>49553</td>\n",
       "      <td>Unknown</td>\n",
       "      <td>100</td>\n",
       "      <td>21</td>\n",
       "      <td>NaN</td>\n",
       "    </tr>\n",
       "    <tr>\n",
       "      <th>49574</th>\n",
       "      <td>49575</td>\n",
       "      <td>Unknown</td>\n",
       "      <td>100</td>\n",
       "      <td>21</td>\n",
       "      <td>NaN</td>\n",
       "    </tr>\n",
       "    <tr>\n",
       "      <th>49640</th>\n",
       "      <td>49641</td>\n",
       "      <td>Unknown</td>\n",
       "      <td>100</td>\n",
       "      <td>21</td>\n",
       "      <td>NaN</td>\n",
       "    </tr>\n",
       "    <tr>\n",
       "      <th>49663</th>\n",
       "      <td>49664</td>\n",
       "      <td>Unknown</td>\n",
       "      <td>100</td>\n",
       "      <td>21</td>\n",
       "      <td>NaN</td>\n",
       "    </tr>\n",
       "    <tr>\n",
       "      <th>49668</th>\n",
       "      <td>49669</td>\n",
       "      <td>Unknown</td>\n",
       "      <td>100</td>\n",
       "      <td>21</td>\n",
       "      <td>NaN</td>\n",
       "    </tr>\n",
       "  </tbody>\n",
       "</table>\n",
       "<p>1258 rows × 5 columns</p>\n",
       "</div>"
      ],
      "text/plain": [
       "       product_id product_name  aisle_id  department_id product_name_lower\n",
       "37             38      Unknown       100             21                NaN\n",
       "71             72      Unknown       100             21                NaN\n",
       "109           110      Unknown       100             21                NaN\n",
       "296           297      Unknown       100             21                NaN\n",
       "416           417      Unknown       100             21                NaN\n",
       "...           ...          ...       ...            ...                ...\n",
       "49552       49553      Unknown       100             21                NaN\n",
       "49574       49575      Unknown       100             21                NaN\n",
       "49640       49641      Unknown       100             21                NaN\n",
       "49663       49664      Unknown       100             21                NaN\n",
       "49668       49669      Unknown       100             21                NaN\n",
       "\n",
       "[1258 rows x 5 columns]"
      ]
     },
     "execution_count": 78,
     "metadata": {},
     "output_type": "execute_result"
    }
   ],
   "source": [
    "df_products[df_products['product_name'] == 'Unknown']"
   ]
  },
  {
   "cell_type": "markdown",
   "id": "d35ca2a2",
   "metadata": {},
   "source": [
    "Note: I selected the missing values ​​and put Unknown = unknown instead of keeping NaN = Not a number / I selected the missing values ​​and put 'Unknown' instead of keeping 'NaN'."
   ]
  },
  {
   "cell_type": "code",
   "execution_count": 79,
   "id": "3e2bf32f",
   "metadata": {},
   "outputs": [
    {
     "data": {
      "text/plain": [
       "order_id                      0\n",
       "user_id                       0\n",
       "order_number                  0\n",
       "order_dow                     0\n",
       "order_hour_of_day             0\n",
       "days_since_prior_order    28819\n",
       "dtype: int64"
      ]
     },
     "execution_count": 79,
     "metadata": {},
     "output_type": "execute_result"
    }
   ],
   "source": [
    "# Looking for missing values\n",
    "df_instacart_orders.isnull().sum()"
   ]
  },
  {
   "cell_type": "code",
   "execution_count": 80,
   "id": "c5ea29da",
   "metadata": {
    "scrolled": true
   },
   "outputs": [
    {
     "data": {
      "text/plain": [
       "0        11\n",
       "1         5\n",
       "2         4\n",
       "3        56\n",
       "4         2\n",
       "       ... \n",
       "2281     90\n",
       "2482    100\n",
       "2912     96\n",
       "3296     73\n",
       "4275     85\n",
       "Name: order_number, Length: 100, dtype: int64"
      ]
     },
     "execution_count": 80,
     "metadata": {},
     "output_type": "execute_result"
    }
   ],
   "source": [
    "# Are there missing values for customers who are not placing their first order?\n",
    "df_instacart_orders.groupby('order_number').head(1)['order_number']"
   ]
  },
  {
   "cell_type": "markdown",
   "id": "1fdf5445",
   "metadata": {},
   "source": [
    "Note: I found the missing values ​​and then selected the first record in each group based on the 'order_number' column."
   ]
  },
  {
   "cell_type": "code",
   "execution_count": 81,
   "id": "5b3b2f1c",
   "metadata": {},
   "outputs": [
    {
     "data": {
      "text/plain": [
       "order_id               0\n",
       "product_id             0\n",
       "add_to_cart_order    836\n",
       "reordered              0\n",
       "dtype: int64"
      ]
     },
     "execution_count": 81,
     "metadata": {},
     "output_type": "execute_result"
    }
   ],
   "source": [
    "# Looking for missing values\n",
    "df_order_products.isnull().sum()"
   ]
  },
  {
   "cell_type": "code",
   "execution_count": 82,
   "id": "7201a728",
   "metadata": {
    "scrolled": true
   },
   "outputs": [
    {
     "data": {
      "text/plain": [
       "1.0"
      ]
     },
     "execution_count": 82,
     "metadata": {},
     "output_type": "execute_result"
    }
   ],
   "source": [
    "# What are the minimum and maximum values for this column?\n",
    "df_order_products.loc[:, 'add_to_cart_order'].min()"
   ]
  },
  {
   "cell_type": "code",
   "execution_count": 83,
   "id": "7f973a6a",
   "metadata": {},
   "outputs": [
    {
     "data": {
      "text/plain": [
       "64.0"
      ]
     },
     "execution_count": 83,
     "metadata": {},
     "output_type": "execute_result"
    }
   ],
   "source": [
    "df_order_products.loc[:, 'add_to_cart_order'].max()"
   ]
  },
  {
   "cell_type": "markdown",
   "id": "c6adc58b",
   "metadata": {},
   "source": [
    "Note: First I found the missing values, then I looked for information about the minimum and maximum value of the column that has missing values."
   ]
  },
  {
   "cell_type": "code",
   "execution_count": 84,
   "id": "a7fa376c",
   "metadata": {},
   "outputs": [],
   "source": [
    "# Save all order IDs with at least one missing value in 'add_to_cart_order\n",
    "order_id_new = df_order_products.loc[df_order_products['add_to_cart_order'].isnull(), 'order_id']#.tolist()"
   ]
  },
  {
   "cell_type": "code",
   "execution_count": 85,
   "id": "c19e0419",
   "metadata": {
    "scrolled": true
   },
   "outputs": [
    {
     "data": {
      "text/plain": [
       "65"
      ]
     },
     "execution_count": 85,
     "metadata": {},
     "output_type": "execute_result"
    }
   ],
   "source": [
    "# Do all orders with missing values contain more than 64 products?\n",
    "# Group orders with missing data by order ID\n",
    "# Count the number of 'product_id' in each order and check the minimum count value\n",
    "df_order_products.loc[df_order_products['order_id'].isin(order_id_new), :].groupby('order_id')['product_id'].count().min()"
   ]
  },
  {
   "cell_type": "markdown",
   "id": "f9ffc5e7",
   "metadata": {},
   "source": [
    "Note: I created a new variable where I saved the order IDs with values and nulls and then grouped the orders and managed to conclude that all orders contained more than 64 products, including the minimum value was 65."
   ]
  },
  {
   "cell_type": "code",
   "execution_count": 86,
   "id": "322d8690",
   "metadata": {},
   "outputs": [
    {
     "name": "stderr",
     "output_type": "stream",
     "text": [
      "C:\\Users\\B450M\\AppData\\Local\\Temp\\ipykernel_20028\\311207451.py:2: FutureWarning: Setting an item of incompatible dtype is deprecated and will raise in a future error of pandas. Value '999' has dtype incompatible with float64, please explicitly cast to a compatible dtype first.\n",
      "  df_order_products['add_to_cart_order'].fillna('999', inplace=True)\n"
     ]
    }
   ],
   "source": [
    "# Replace missing values ​​in column 'add_to_cart_order' with 999 and convert column to integer type\n",
    "df_order_products['add_to_cart_order'].fillna('999', inplace=True)"
   ]
  },
  {
   "cell_type": "code",
   "execution_count": 87,
   "id": "3d98aa7d",
   "metadata": {
    "scrolled": true
   },
   "outputs": [
    {
     "data": {
      "text/plain": [
       "order_id             0\n",
       "product_id           0\n",
       "add_to_cart_order    0\n",
       "reordered            0\n",
       "dtype: int64"
      ]
     },
     "execution_count": 87,
     "metadata": {},
     "output_type": "execute_result"
    }
   ],
   "source": [
    "df_order_products.isnull().sum()"
   ]
  },
  {
   "cell_type": "code",
   "execution_count": 88,
   "id": "def40c8e",
   "metadata": {},
   "outputs": [],
   "source": [
    "df_order_products['add_to_cart_order'] = df_order_products['add_to_cart_order'].astype(int)"
   ]
  },
  {
   "cell_type": "markdown",
   "id": "289bcf0b",
   "metadata": {},
   "source": [
    "Note: I replaced the missing values in df_order_products'add_to_cart_order' with '999' right after I converted it to the 'int' type"
   ]
  },
  {
   "cell_type": "markdown",
   "id": "RnplPFY1gSrb",
   "metadata": {
    "id": "RnplPFY1gSrb"
   },
   "source": [
    "# Conclusion\n",
    "\n",
    "Firstly I needed to understand the data, such as the characteristics of variables and missing values, then I continued with the treatment of missing values ​​where I needed to choose what to do with the missing values, remove them or replace them with some value and finally I made the Cleaning and standardizing data using good practices."
   ]
  },
  {
   "cell_type": "markdown",
   "id": "UjrOIwTcz3ri",
   "metadata": {
    "id": "UjrOIwTcz3ri"
   },
   "source": [
    "##  Data analysis (EDA)\n",
    "\n",
    "Once the data is processed and ready, perform the following analysis:\n"
   ]
  },
  {
   "cell_type": "markdown",
   "id": "6171b7c0",
   "metadata": {},
   "source": [
    "# [A] Easy (must complete everything to pass)\n",
    "1. Check that the values in the 'order_hour_of_day' and 'order_dow' columns in the orders table make sense (i.e. the values in the 'order_hour_of_day' column range from 0 to 23 and those in the 'order_dow' range from 0 to 6).\n",
    "2. Create a chart that shows how many people place orders for each hour of the day.\n",
    "3. Create a chart that shows what day of the week people shop.\n",
    "4. Create a graph that shows how long people wait before placing their next order and comment on the minimum and maximum values."
   ]
  },
  {
   "cell_type": "markdown",
   "id": "short-capability",
   "metadata": {
    "id": "short-capability"
   },
   "source": [
    "### [A1] Check if the values make sense"
   ]
  },
  {
   "cell_type": "code",
   "execution_count": 89,
   "id": "growing-fruit",
   "metadata": {
    "id": "growing-fruit"
   },
   "outputs": [
    {
     "data": {
      "text/plain": [
       "order_hour_of_day\n",
       "10    40578\n",
       "11    40032\n",
       "15    39789\n",
       "14    39631\n",
       "13    39007\n",
       "16    38112\n",
       "12    38034\n",
       "9     35896\n",
       "17    31930\n",
       "18    25510\n",
       "8     25024\n",
       "19    19547\n",
       "20    14624\n",
       "7     13043\n",
       "21    11019\n",
       "22     8512\n",
       "23     5611\n",
       "6      4215\n",
       "0      3180\n",
       "1      1763\n",
       "5      1371\n",
       "2      1004\n",
       "3       770\n",
       "4       765\n",
       "Name: count, dtype: int64"
      ]
     },
     "execution_count": 89,
     "metadata": {},
     "output_type": "execute_result"
    }
   ],
   "source": [
    "df_instacart_orders['order_hour_of_day'].value_counts()"
   ]
  },
  {
   "cell_type": "code",
   "execution_count": 90,
   "id": "accessory-malaysia",
   "metadata": {
    "id": "accessory-malaysia"
   },
   "outputs": [
    {
     "data": {
      "text/plain": [
       "order_dow\n",
       "0    84090\n",
       "1    82185\n",
       "2    65833\n",
       "5    63488\n",
       "6    62649\n",
       "3    60912\n",
       "4    59810\n",
       "Name: count, dtype: int64"
      ]
     },
     "execution_count": 90,
     "metadata": {},
     "output_type": "execute_result"
    }
   ],
   "source": [
    "df_instacart_orders['order_dow'].value_counts()"
   ]
  },
  {
   "cell_type": "markdown",
   "id": "2b76b6af",
   "metadata": {},
   "source": [
    "Note: After the analysis above, I was able to obtain data regarding the time at which orders were placed and the number of orders on the days of the week."
   ]
  },
  {
   "cell_type": "markdown",
   "id": "a6743a70",
   "metadata": {
    "id": "a6743a70"
   },
   "source": [
    "### [A2] How many people place orders at each hour of the day?"
   ]
  },
  {
   "cell_type": "code",
   "execution_count": 91,
   "id": "a36cca27",
   "metadata": {
    "id": "a36cca27"
   },
   "outputs": [
    {
     "data": {
      "image/png": "[encoded data removed]",
      "text/plain": [
       "<Figure size 640x480 with 1 Axes>"
      ]
     },
     "metadata": {},
     "output_type": "display_data"
    }
   ],
   "source": [
    "df_instacart_orders['order_hour_of_day'].value_counts().plot(kind='bar');"
   ]
  },
  {
   "cell_type": "markdown",
   "id": "99f2a969",
   "metadata": {},
   "source": [
    "Note: In the graph above, it can be seen that from 10 am to 4 pm are the busiest times of the day as the highest number of orders are placed within these times."
   ]
  },
  {
   "cell_type": "markdown",
   "id": "documented-command",
   "metadata": {
    "id": "documented-command"
   },
   "source": [
    "### [A3] What day of the week do people shop?"
   ]
  },
  {
   "cell_type": "code",
   "execution_count": 92,
   "id": "chief-digit",
   "metadata": {
    "id": "chief-digit"
   },
   "outputs": [
    {
     "data": {
      "image/png": "[encoded data removed]",
      "text/plain": [
       "<Figure size 640x480 with 1 Axes>"
      ]
     },
     "metadata": {},
     "output_type": "display_data"
    }
   ],
   "source": [
    "df_instacart_orders['order_dow'].value_counts().plot(kind='bar');"
   ]
  },
  {
   "cell_type": "markdown",
   "id": "5f439c3c",
   "metadata": {},
   "source": [
    "Note: In the graph above, I observed and concluded that Sunday and Monday are the busiest days and have the highest number of orders placed on these days."
   ]
  },
  {
   "cell_type": "markdown",
   "id": "cutting-concert",
   "metadata": {
    "id": "cutting-concert"
   },
   "source": [
    "### [A4] How long do people wait before placing another order?"
   ]
  },
  {
   "cell_type": "markdown",
   "id": "acd64012",
   "metadata": {},
   "source": [
    "Note: Around 15 days"
   ]
  },
  {
   "cell_type": "code",
   "execution_count": 93,
   "id": "gMOIimGd5VNb",
   "metadata": {
    "id": "gMOIimGd5VNb"
   },
   "outputs": [
    {
     "data": {
      "image/png": "[encoded data removed]",
      "text/plain": [
       "<Figure size 640x480 with 1 Axes>"
      ]
     },
     "metadata": {},
     "output_type": "display_data"
    }
   ],
   "source": [
    "df_instacart_orders['days_since_prior_order'].plot(kind='hist');"
   ]
  },
  {
   "cell_type": "markdown",
   "id": "6f21ffe1",
   "metadata": {},
   "source": [
    "# [B] Medium (must complete everything to pass)\n",
    "\n",
    "1. Is there any difference in the distributions of `'order_hour_of_day'` on Wednesdays and Saturdays? Construct bar charts for both days on the same chart and describe the differences you noticed.\n",
    "2. Construct a distribution graph for the number of orders customers place (i.e., how many customers placed just 1 order, how many placed just 2, how many placed just 3, etc.)\n",
    "3. What are the 20 most frequently purchased products? Display the IDs and names."
   ]
  },
  {
   "cell_type": "markdown",
   "id": "packed-classic",
   "metadata": {
    "id": "packed-classic"
   },
   "source": [
    "### [B1] Differences on Wednesdays and Saturdays in 'order_hour_of_day'. Create bar charts for both days and describe the differences."
   ]
  },
  {
   "cell_type": "code",
   "execution_count": 94,
   "id": "d89b8403",
   "metadata": {
    "id": "d89b8403"
   },
   "outputs": [
    {
     "data": {
      "image/png": "[encoded data removed]",
      "text/plain": [
       "<Figure size 640x480 with 1 Axes>"
      ]
     },
     "metadata": {},
     "output_type": "display_data"
    }
   ],
   "source": [
    "df_instacart_orders.loc[df_instacart_orders['order_dow'] == 3, 'order_hour_of_day'].value_counts().plot(kind='bar');"
   ]
  },
  {
   "cell_type": "markdown",
   "id": "ae29a89f",
   "metadata": {},
   "source": [
    "Note: On day 3 we can see that the peak of orders occurs at 3 pm."
   ]
  },
  {
   "cell_type": "code",
   "execution_count": 95,
   "id": "94e54e8a",
   "metadata": {
    "id": "94e54e8a"
   },
   "outputs": [
    {
     "data": {
      "image/png": "[encoded data removed]",
      "text/plain": [
       "<Figure size 640x480 with 1 Axes>"
      ]
     },
     "metadata": {},
     "output_type": "display_data"
    }
   ],
   "source": [
    "df_instacart_orders.loc[df_instacart_orders['order_dow'] == 6, 'order_hour_of_day'].value_counts().plot(kind='bar');"
   ]
  },
  {
   "cell_type": "markdown",
   "id": "b665a3bf",
   "metadata": {},
   "source": [
    "Note: On the 6th we can see that the peak of orders occurs at 2 pm."
   ]
  },
  {
   "cell_type": "code",
   "execution_count": 96,
   "id": "35bcea30",
   "metadata": {
    "id": "35bcea30"
   },
   "outputs": [
    {
     "data": {
      "text/html": [
       "<div>\n",
       "<style scoped>\n",
       "    .dataframe tbody tr th:only-of-type {\n",
       "        vertical-align: middle;\n",
       "    }\n",
       "\n",
       "    .dataframe tbody tr th {\n",
       "        vertical-align: top;\n",
       "    }\n",
       "\n",
       "    .dataframe thead th {\n",
       "        text-align: right;\n",
       "    }\n",
       "</style>\n",
       "<table border=\"1\" class=\"dataframe\">\n",
       "  <thead>\n",
       "    <tr style=\"text-align: right;\">\n",
       "      <th></th>\n",
       "      <th>product_id</th>\n",
       "      <th>count</th>\n",
       "      <th>product_name</th>\n",
       "    </tr>\n",
       "  </thead>\n",
       "  <tbody>\n",
       "    <tr>\n",
       "      <th>0</th>\n",
       "      <td>24852</td>\n",
       "      <td>66050</td>\n",
       "      <td>Banana</td>\n",
       "    </tr>\n",
       "    <tr>\n",
       "      <th>1</th>\n",
       "      <td>13176</td>\n",
       "      <td>53297</td>\n",
       "      <td>Bag of Organic Bananas</td>\n",
       "    </tr>\n",
       "    <tr>\n",
       "      <th>2</th>\n",
       "      <td>21137</td>\n",
       "      <td>37039</td>\n",
       "      <td>Organic Strawberries</td>\n",
       "    </tr>\n",
       "    <tr>\n",
       "      <th>3</th>\n",
       "      <td>21903</td>\n",
       "      <td>33971</td>\n",
       "      <td>Organic Baby Spinach</td>\n",
       "    </tr>\n",
       "    <tr>\n",
       "      <th>4</th>\n",
       "      <td>47209</td>\n",
       "      <td>29773</td>\n",
       "      <td>Organic Hass Avocado</td>\n",
       "    </tr>\n",
       "    <tr>\n",
       "      <th>5</th>\n",
       "      <td>47766</td>\n",
       "      <td>24689</td>\n",
       "      <td>Organic Avocado</td>\n",
       "    </tr>\n",
       "    <tr>\n",
       "      <th>6</th>\n",
       "      <td>47626</td>\n",
       "      <td>21495</td>\n",
       "      <td>Large Lemon</td>\n",
       "    </tr>\n",
       "    <tr>\n",
       "      <th>7</th>\n",
       "      <td>16797</td>\n",
       "      <td>20018</td>\n",
       "      <td>Strawberries</td>\n",
       "    </tr>\n",
       "    <tr>\n",
       "      <th>8</th>\n",
       "      <td>26209</td>\n",
       "      <td>19690</td>\n",
       "      <td>Limes</td>\n",
       "    </tr>\n",
       "    <tr>\n",
       "      <th>9</th>\n",
       "      <td>27845</td>\n",
       "      <td>19600</td>\n",
       "      <td>Organic Whole Milk</td>\n",
       "    </tr>\n",
       "    <tr>\n",
       "      <th>10</th>\n",
       "      <td>27966</td>\n",
       "      <td>19197</td>\n",
       "      <td>Organic Raspberries</td>\n",
       "    </tr>\n",
       "    <tr>\n",
       "      <th>11</th>\n",
       "      <td>22935</td>\n",
       "      <td>15898</td>\n",
       "      <td>Organic Yellow Onion</td>\n",
       "    </tr>\n",
       "    <tr>\n",
       "      <th>12</th>\n",
       "      <td>24964</td>\n",
       "      <td>15292</td>\n",
       "      <td>Organic Garlic</td>\n",
       "    </tr>\n",
       "    <tr>\n",
       "      <th>13</th>\n",
       "      <td>45007</td>\n",
       "      <td>14584</td>\n",
       "      <td>Organic Zucchini</td>\n",
       "    </tr>\n",
       "    <tr>\n",
       "      <th>14</th>\n",
       "      <td>39275</td>\n",
       "      <td>13879</td>\n",
       "      <td>Organic Blueberries</td>\n",
       "    </tr>\n",
       "    <tr>\n",
       "      <th>15</th>\n",
       "      <td>49683</td>\n",
       "      <td>13675</td>\n",
       "      <td>Cucumber Kirby</td>\n",
       "    </tr>\n",
       "    <tr>\n",
       "      <th>16</th>\n",
       "      <td>28204</td>\n",
       "      <td>12544</td>\n",
       "      <td>Organic Fuji Apple</td>\n",
       "    </tr>\n",
       "    <tr>\n",
       "      <th>17</th>\n",
       "      <td>5876</td>\n",
       "      <td>12232</td>\n",
       "      <td>Organic Lemon</td>\n",
       "    </tr>\n",
       "    <tr>\n",
       "      <th>18</th>\n",
       "      <td>8277</td>\n",
       "      <td>11993</td>\n",
       "      <td>Apple Honeycrisp Organic</td>\n",
       "    </tr>\n",
       "    <tr>\n",
       "      <th>19</th>\n",
       "      <td>40706</td>\n",
       "      <td>11781</td>\n",
       "      <td>Organic Grape Tomatoes</td>\n",
       "    </tr>\n",
       "  </tbody>\n",
       "</table>\n",
       "</div>"
      ],
      "text/plain": [
       "    product_id  count              product_name\n",
       "0        24852  66050                    Banana\n",
       "1        13176  53297    Bag of Organic Bananas\n",
       "2        21137  37039      Organic Strawberries\n",
       "3        21903  33971      Organic Baby Spinach\n",
       "4        47209  29773      Organic Hass Avocado\n",
       "5        47766  24689           Organic Avocado\n",
       "6        47626  21495               Large Lemon\n",
       "7        16797  20018              Strawberries\n",
       "8        26209  19690                     Limes\n",
       "9        27845  19600        Organic Whole Milk\n",
       "10       27966  19197       Organic Raspberries\n",
       "11       22935  15898      Organic Yellow Onion\n",
       "12       24964  15292            Organic Garlic\n",
       "13       45007  14584          Organic Zucchini\n",
       "14       39275  13879       Organic Blueberries\n",
       "15       49683  13675            Cucumber Kirby\n",
       "16       28204  12544        Organic Fuji Apple\n",
       "17        5876  12232             Organic Lemon\n",
       "18        8277  11993  Apple Honeycrisp Organic\n",
       "19       40706  11781    Organic Grape Tomatoes"
      ]
     },
     "execution_count": 96,
     "metadata": {},
     "output_type": "execute_result"
    }
   ],
   "source": [
    "df_vcount = df_order_products['product_id'].value_counts().head(20).reset_index()\n",
    "df_vcount.columns = ['product_id', 'count']\n",
    "\n",
    "df_results = pd.merge(df_vcount, df_products[['product_id', 'product_name']], on='product_id')\n",
    "df_results"
   ]
  },
  {
   "cell_type": "markdown",
   "id": "d0f5c3aa",
   "metadata": {},
   "source": [
    "Note: Above we have the list of the 20 best-selling products, with bananas being the best-selling product, followed by organic bananas."
   ]
  },
  {
   "cell_type": "markdown",
   "id": "e3891143",
   "metadata": {
    "id": "e3891143"
   },
   "source": [
    "### [B2] What is the distribution of the number of orders per customer?¶"
   ]
  },
  {
   "cell_type": "code",
   "execution_count": 97,
   "id": "d8c26c23",
   "metadata": {
    "id": "d8c26c23"
   },
   "outputs": [
    {
     "data": {
      "text/plain": [
       "<Axes: ylabel='Frequency'>"
      ]
     },
     "execution_count": 97,
     "metadata": {},
     "output_type": "execute_result"
    },
    {
     "data": {
      "image/png": "[encoded data removed]",
      "text/plain": [
       "<Figure size 640x480 with 1 Axes>"
      ]
     },
     "metadata": {},
     "output_type": "display_data"
    }
   ],
   "source": [
    "df_instacart_orders.groupby('user_id')['order_id'].count().plot.hist()"
   ]
  },
  {
   "cell_type": "markdown",
   "id": "f0e585a3",
   "metadata": {},
   "source": [
    "Note: Here we can see that most customers place only 1 order."
   ]
  },
  {
   "cell_type": "markdown",
   "id": "54a0319c",
   "metadata": {
    "id": "54a0319c"
   },
   "source": [
    "### [B3] What are the 20 most popular products? Display the IDs and names."
   ]
  },
  {
   "cell_type": "code",
   "execution_count": 98,
   "id": "exterior-arizona",
   "metadata": {
    "id": "exterior-arizona",
    "scrolled": true
   },
   "outputs": [
    {
     "data": {
      "text/html": [
       "<div>\n",
       "<style scoped>\n",
       "    .dataframe tbody tr th:only-of-type {\n",
       "        vertical-align: middle;\n",
       "    }\n",
       "\n",
       "    .dataframe tbody tr th {\n",
       "        vertical-align: top;\n",
       "    }\n",
       "\n",
       "    .dataframe thead th {\n",
       "        text-align: right;\n",
       "    }\n",
       "</style>\n",
       "<table border=\"1\" class=\"dataframe\">\n",
       "  <thead>\n",
       "    <tr style=\"text-align: right;\">\n",
       "      <th></th>\n",
       "      <th>product_id</th>\n",
       "      <th>count</th>\n",
       "      <th>product_name</th>\n",
       "    </tr>\n",
       "  </thead>\n",
       "  <tbody>\n",
       "    <tr>\n",
       "      <th>0</th>\n",
       "      <td>24852</td>\n",
       "      <td>66050</td>\n",
       "      <td>Banana</td>\n",
       "    </tr>\n",
       "    <tr>\n",
       "      <th>1</th>\n",
       "      <td>13176</td>\n",
       "      <td>53297</td>\n",
       "      <td>Bag of Organic Bananas</td>\n",
       "    </tr>\n",
       "    <tr>\n",
       "      <th>2</th>\n",
       "      <td>21137</td>\n",
       "      <td>37039</td>\n",
       "      <td>Organic Strawberries</td>\n",
       "    </tr>\n",
       "    <tr>\n",
       "      <th>3</th>\n",
       "      <td>21903</td>\n",
       "      <td>33971</td>\n",
       "      <td>Organic Baby Spinach</td>\n",
       "    </tr>\n",
       "    <tr>\n",
       "      <th>4</th>\n",
       "      <td>47209</td>\n",
       "      <td>29773</td>\n",
       "      <td>Organic Hass Avocado</td>\n",
       "    </tr>\n",
       "    <tr>\n",
       "      <th>5</th>\n",
       "      <td>47766</td>\n",
       "      <td>24689</td>\n",
       "      <td>Organic Avocado</td>\n",
       "    </tr>\n",
       "    <tr>\n",
       "      <th>6</th>\n",
       "      <td>47626</td>\n",
       "      <td>21495</td>\n",
       "      <td>Large Lemon</td>\n",
       "    </tr>\n",
       "    <tr>\n",
       "      <th>7</th>\n",
       "      <td>16797</td>\n",
       "      <td>20018</td>\n",
       "      <td>Strawberries</td>\n",
       "    </tr>\n",
       "    <tr>\n",
       "      <th>8</th>\n",
       "      <td>26209</td>\n",
       "      <td>19690</td>\n",
       "      <td>Limes</td>\n",
       "    </tr>\n",
       "    <tr>\n",
       "      <th>9</th>\n",
       "      <td>27845</td>\n",
       "      <td>19600</td>\n",
       "      <td>Organic Whole Milk</td>\n",
       "    </tr>\n",
       "    <tr>\n",
       "      <th>10</th>\n",
       "      <td>27966</td>\n",
       "      <td>19197</td>\n",
       "      <td>Organic Raspberries</td>\n",
       "    </tr>\n",
       "    <tr>\n",
       "      <th>11</th>\n",
       "      <td>22935</td>\n",
       "      <td>15898</td>\n",
       "      <td>Organic Yellow Onion</td>\n",
       "    </tr>\n",
       "    <tr>\n",
       "      <th>12</th>\n",
       "      <td>24964</td>\n",
       "      <td>15292</td>\n",
       "      <td>Organic Garlic</td>\n",
       "    </tr>\n",
       "    <tr>\n",
       "      <th>13</th>\n",
       "      <td>45007</td>\n",
       "      <td>14584</td>\n",
       "      <td>Organic Zucchini</td>\n",
       "    </tr>\n",
       "    <tr>\n",
       "      <th>14</th>\n",
       "      <td>39275</td>\n",
       "      <td>13879</td>\n",
       "      <td>Organic Blueberries</td>\n",
       "    </tr>\n",
       "    <tr>\n",
       "      <th>15</th>\n",
       "      <td>49683</td>\n",
       "      <td>13675</td>\n",
       "      <td>Cucumber Kirby</td>\n",
       "    </tr>\n",
       "    <tr>\n",
       "      <th>16</th>\n",
       "      <td>28204</td>\n",
       "      <td>12544</td>\n",
       "      <td>Organic Fuji Apple</td>\n",
       "    </tr>\n",
       "    <tr>\n",
       "      <th>17</th>\n",
       "      <td>5876</td>\n",
       "      <td>12232</td>\n",
       "      <td>Organic Lemon</td>\n",
       "    </tr>\n",
       "    <tr>\n",
       "      <th>18</th>\n",
       "      <td>8277</td>\n",
       "      <td>11993</td>\n",
       "      <td>Apple Honeycrisp Organic</td>\n",
       "    </tr>\n",
       "    <tr>\n",
       "      <th>19</th>\n",
       "      <td>40706</td>\n",
       "      <td>11781</td>\n",
       "      <td>Organic Grape Tomatoes</td>\n",
       "    </tr>\n",
       "  </tbody>\n",
       "</table>\n",
       "</div>"
      ],
      "text/plain": [
       "    product_id  count              product_name\n",
       "0        24852  66050                    Banana\n",
       "1        13176  53297    Bag of Organic Bananas\n",
       "2        21137  37039      Organic Strawberries\n",
       "3        21903  33971      Organic Baby Spinach\n",
       "4        47209  29773      Organic Hass Avocado\n",
       "5        47766  24689           Organic Avocado\n",
       "6        47626  21495               Large Lemon\n",
       "7        16797  20018              Strawberries\n",
       "8        26209  19690                     Limes\n",
       "9        27845  19600        Organic Whole Milk\n",
       "10       27966  19197       Organic Raspberries\n",
       "11       22935  15898      Organic Yellow Onion\n",
       "12       24964  15292            Organic Garlic\n",
       "13       45007  14584          Organic Zucchini\n",
       "14       39275  13879       Organic Blueberries\n",
       "15       49683  13675            Cucumber Kirby\n",
       "16       28204  12544        Organic Fuji Apple\n",
       "17        5876  12232             Organic Lemon\n",
       "18        8277  11993  Apple Honeycrisp Organic\n",
       "19       40706  11781    Organic Grape Tomatoes"
      ]
     },
     "execution_count": 98,
     "metadata": {},
     "output_type": "execute_result"
    }
   ],
   "source": [
    "df_vcount = df_order_products['product_id'].value_counts().head(20).reset_index()\n",
    "df_vcount.columns = ['product_id', 'count']\n",
    "\n",
    "df_results = pd.merge(df_vcount, df_products[['product_id', 'product_name']], on='product_id')\n",
    "df_results"
   ]
  },
  {
   "cell_type": "markdown",
   "id": "755862b3",
   "metadata": {},
   "source": [
    "Note: Here we have the list of the 20 best-selling products with bananas as the best-selling product."
   ]
  },
  {
   "cell_type": "markdown",
   "id": "afdaf787",
   "metadata": {},
   "source": [
    "# [C] Hard (must complete at least two questions to pass)\n",
    "1. How many items do people typically buy in one order? How is the distribution?\n",
    "2. What are the top 20 items most frequently included in repeat orders? Display the IDs and names.\n",
    "3. For each product, what proportion of your orders are repeat? Create a table with columns for product ID and name and the proportion of repeat orders.\n",
    "4. For each customer, what proportion of all their orders are repeat?\n",
    "5. What are the top 20 items that people put in their carts before everyone else? Display the product ID, name, and the number of times it was first added to a cart."
   ]
  },
  {
   "cell_type": "markdown",
   "id": "romantic-deposit",
   "metadata": {
    "id": "romantic-deposit"
   },
   "source": [
    "### [C1] How many items do people typically buy in one order? How is the distribution?"
   ]
  },
  {
   "cell_type": "code",
   "execution_count": 99,
   "id": "virtual-punch",
   "metadata": {
    "id": "virtual-punch"
   },
   "outputs": [
    {
     "name": "stdout",
     "output_type": "stream",
     "text": [
      "10\n"
     ]
    },
    {
     "data": {
      "image/png": "[encoded data removed]",
      "text/plain": [
       "<Figure size 640x480 with 1 Axes>"
      ]
     },
     "metadata": {},
     "output_type": "display_data"
    }
   ],
   "source": [
    "qtd_itens = df_order_products.groupby('order_id')['product_id'].count().sum()\n",
    "qtd_pedidos = df_order_products.groupby('order_id')['product_id'].count().shape[0]\n",
    "\n",
    "print(int(qtd_itens / qtd_pedidos))\n",
    "\n",
    "df_order_products.groupby('order_id')['product_id'].count().plot.hist();"
   ]
  },
  {
   "cell_type": "markdown",
   "id": "3e4c5f43",
   "metadata": {},
   "source": [
    "Note: People buy an average of 20 products."
   ]
  },
  {
   "cell_type": "markdown",
   "id": "5e6b5537",
   "metadata": {
    "id": "5e6b5537"
   },
   "source": [
    "### [C2] What are the top 20 items most frequently included in repeat orders? Display IDs and names.¶"
   ]
  },
  {
   "cell_type": "code",
   "execution_count": 100,
   "id": "9374e55a",
   "metadata": {
    "id": "9374e55a"
   },
   "outputs": [
    {
     "data": {
      "text/plain": [
       "product_id  product_name                                 \n",
       "24852       Banana                                           55763\n",
       "13176       Bag of Organic Bananas                           44450\n",
       "21137       Organic Strawberries                             28639\n",
       "21903       Organic Baby Spinach                             26233\n",
       "47209       Organic Hass Avocado                             23629\n",
       "                                                             ...  \n",
       "7092        Melatonin NutraSpray Sublingual Orange Flavor        1\n",
       "21003       White Chocolate Macadamia Coffee Creamer             1\n",
       "32856       Crab Rangoon                                         1\n",
       "42727       Chocolate Lovers Chips Deluxe Cookies                1\n",
       "24091       Garlic Mill Spices                                   1\n",
       "Name: count, Length: 36228, dtype: int64"
      ]
     },
     "execution_count": 100,
     "metadata": {},
     "output_type": "execute_result"
    }
   ],
   "source": [
    "df_order_products.loc[df_order_products['reordered']==1, ['product_id']].merge(df_products[['product_id', 'product_name']], on='product_id').value_counts()"
   ]
  },
  {
   "cell_type": "markdown",
   "id": "da624b91",
   "metadata": {},
   "source": [
    "Note: Bananas top the ranking of most ordered items."
   ]
  },
  {
   "cell_type": "markdown",
   "id": "subject-boxing",
   "metadata": {
    "id": "subject-boxing"
   },
   "source": [
    "### [C4] For each customer, what proportion of all their orders are repeat?"
   ]
  },
  {
   "cell_type": "code",
   "execution_count": 101,
   "id": "896258b8",
   "metadata": {
    "id": "medical-couple",
    "scrolled": true
   },
   "outputs": [
    {
     "data": {
      "text/plain": [
       "0.16093538871122262"
      ]
     },
     "execution_count": 101,
     "metadata": {},
     "output_type": "execute_result"
    }
   ],
   "source": [
    "df_merged = df_order_products.merge(df_instacart_orders, on='order_id', how='left')\n",
    "df_merged.groupby('user_id')['reordered'].mean()\n",
    "\n",
    "df_aux = df_merged.groupby(['user_id', 'order_id'])['reordered'].mean().reset_index()\n",
    "df_aux['pedido_repetido'] = df_aux['reordered'].apply(lambda x: 1 if x == 1 else 0)\n",
    "df_aux.groupby(['user_id'])['pedido_repetido'].mean().mean()"
   ]
  },
  {
   "cell_type": "markdown",
   "id": "adbb99d7",
   "metadata": {},
   "source": [
    "Note: We obtained a proportion of 16%."
   ]
  },
  {
   "cell_type": "markdown",
   "id": "TisH_5Cp3wAi",
   "metadata": {
    "id": "TisH_5Cp3wAi"
   },
   "source": [
    "## General conclusion of the project"
   ]
  },
  {
   "cell_type": "markdown",
   "id": "41d97e85",
   "metadata": {
    "id": "Nk-4GS7mDwqY"
   },
   "source": [
    "Note: After carrying out all good practices with the data and carrying out some analysis of the data regarding the days of the week, time of day and best-selling products, we can observe the times when we have a greater flow of orders, the days of the week when we have more movement and best-selling products."
   ]
  }
 ],
 "metadata": {
  "ExecuteTimeLog": [
   {
    "duration": 536,
    "start_time": "2024-07-09T16:03:19.660Z"
   },
   {
    "duration": 1890,
    "start_time": "2024-07-09T16:03:20.200Z"
   },
   {
    "duration": 221,
    "start_time": "2024-07-09T16:03:22.094Z"
   },
   {
    "duration": 22,
    "start_time": "2024-07-09T16:03:22.321Z"
   },
   {
    "duration": 4,
    "start_time": "2024-07-09T16:03:22.347Z"
   },
   {
    "duration": 57,
    "start_time": "2024-07-09T16:03:22.355Z"
   },
   {
    "duration": 4,
    "start_time": "2024-07-09T16:03:22.416Z"
   },
   {
    "duration": 15,
    "start_time": "2024-07-09T16:03:22.425Z"
   },
   {
    "duration": 3,
    "start_time": "2024-07-09T16:03:22.444Z"
   },
   {
    "duration": 61,
    "start_time": "2024-07-09T16:03:22.456Z"
   },
   {
    "duration": 5,
    "start_time": "2024-07-09T16:03:22.524Z"
   },
   {
    "duration": 14,
    "start_time": "2024-07-09T16:03:22.533Z"
   },
   {
    "duration": 4,
    "start_time": "2024-07-09T16:03:22.551Z"
   },
   {
    "duration": 230,
    "start_time": "2024-07-09T16:03:22.558Z"
   },
   {
    "duration": 231,
    "start_time": "2024-07-09T16:03:22.792Z"
   },
   {
    "duration": 4,
    "start_time": "2024-07-09T16:03:23.029Z"
   },
   {
    "duration": 4,
    "start_time": "2024-07-09T16:03:23.037Z"
   },
   {
    "duration": 11,
    "start_time": "2024-07-09T16:03:23.044Z"
   },
   {
    "duration": 49,
    "start_time": "2024-07-09T16:03:23.063Z"
   },
   {
    "duration": 4,
    "start_time": "2024-07-09T16:03:23.117Z"
   },
   {
    "duration": 6,
    "start_time": "2024-07-09T16:03:23.127Z"
   },
   {
    "duration": 5,
    "start_time": "2024-07-09T16:03:23.137Z"
   },
   {
    "duration": 253,
    "start_time": "2024-07-09T16:03:23.145Z"
   },
   {
    "duration": 12,
    "start_time": "2024-07-09T16:03:23.402Z"
   },
   {
    "duration": 248,
    "start_time": "2024-07-09T16:03:23.419Z"
   },
   {
    "duration": 18,
    "start_time": "2024-07-09T16:03:23.671Z"
   },
   {
    "duration": 38,
    "start_time": "2024-07-09T16:03:23.692Z"
   },
   {
    "duration": 34,
    "start_time": "2024-07-09T16:03:23.743Z"
   },
   {
    "duration": 41,
    "start_time": "2024-07-09T16:03:23.781Z"
   },
   {
    "duration": 4,
    "start_time": "2024-07-09T16:03:23.825Z"
   },
   {
    "duration": 27,
    "start_time": "2024-07-09T16:03:23.832Z"
   },
   {
    "duration": 4,
    "start_time": "2024-07-09T16:03:23.862Z"
   },
   {
    "duration": 75,
    "start_time": "2024-07-09T16:03:23.870Z"
   },
   {
    "duration": 20,
    "start_time": "2024-07-09T16:03:23.949Z"
   },
   {
    "duration": 12,
    "start_time": "2024-07-09T16:03:23.971Z"
   },
   {
    "duration": 6,
    "start_time": "2024-07-09T16:03:24.014Z"
   },
   {
    "duration": 9,
    "start_time": "2024-07-09T16:03:24.025Z"
   },
   {
    "duration": 3,
    "start_time": "2024-07-09T16:03:24.038Z"
   },
   {
    "duration": 9,
    "start_time": "2024-07-09T16:03:24.045Z"
   },
   {
    "duration": 9,
    "start_time": "2024-07-09T16:03:24.060Z"
   },
   {
    "duration": 59,
    "start_time": "2024-07-09T16:03:24.072Z"
   },
   {
    "duration": 3,
    "start_time": "2024-07-09T16:03:24.135Z"
   },
   {
    "duration": 9,
    "start_time": "2024-07-09T16:03:24.141Z"
   },
   {
    "duration": 4,
    "start_time": "2024-07-09T16:03:24.154Z"
   },
   {
    "duration": 51,
    "start_time": "2024-07-09T16:03:24.161Z"
   },
   {
    "duration": 9,
    "start_time": "2024-07-09T16:03:24.217Z"
   },
   {
    "duration": 21,
    "start_time": "2024-07-09T16:03:24.230Z"
   },
   {
    "duration": 4,
    "start_time": "2024-07-09T16:03:24.254Z"
   },
   {
    "duration": 1536,
    "start_time": "2024-07-09T16:03:24.263Z"
   },
   {
    "duration": 13,
    "start_time": "2024-07-09T16:03:25.802Z"
   },
   {
    "duration": 1685,
    "start_time": "2024-07-09T16:03:25.819Z"
   },
   {
    "duration": 17,
    "start_time": "2024-07-09T16:03:27.509Z"
   },
   {
    "duration": 4,
    "start_time": "2024-07-09T16:03:27.529Z"
   },
   {
    "duration": 27,
    "start_time": "2024-07-09T16:03:27.536Z"
   },
   {
    "duration": 5,
    "start_time": "2024-07-09T16:03:27.566Z"
   },
   {
    "duration": 49,
    "start_time": "2024-07-09T16:03:27.575Z"
   },
   {
    "duration": 4,
    "start_time": "2024-07-09T16:03:27.628Z"
   },
   {
    "duration": 12,
    "start_time": "2024-07-09T16:03:27.636Z"
   },
   {
    "duration": 5,
    "start_time": "2024-07-09T16:03:27.652Z"
   },
   {
    "duration": 55,
    "start_time": "2024-07-09T16:03:27.661Z"
   },
   {
    "duration": 4,
    "start_time": "2024-07-09T16:03:27.721Z"
   },
   {
    "duration": 9,
    "start_time": "2024-07-09T16:03:27.731Z"
   },
   {
    "duration": 24,
    "start_time": "2024-07-09T16:03:27.744Z"
   },
   {
    "duration": 40,
    "start_time": "2024-07-09T16:03:27.773Z"
   },
   {
    "duration": 13,
    "start_time": "2024-07-09T16:03:27.818Z"
   },
   {
    "duration": 4,
    "start_time": "2024-07-09T16:03:27.834Z"
   },
   {
    "duration": 72,
    "start_time": "2024-07-09T16:03:27.842Z"
   },
   {
    "duration": 4,
    "start_time": "2024-07-09T16:03:27.917Z"
   },
   {
    "duration": 45,
    "start_time": "2024-07-09T16:03:27.925Z"
   },
   {
    "duration": 3,
    "start_time": "2024-07-09T16:03:27.974Z"
   },
   {
    "duration": 34,
    "start_time": "2024-07-09T16:03:28.012Z"
   },
   {
    "duration": 34,
    "start_time": "2024-07-09T16:03:28.049Z"
   },
   {
    "duration": 4,
    "start_time": "2024-07-09T16:03:28.114Z"
   },
   {
    "duration": 12,
    "start_time": "2024-07-09T16:03:28.120Z"
   },
   {
    "duration": 3,
    "start_time": "2024-07-09T16:03:28.136Z"
   },
   {
    "duration": 95,
    "start_time": "2024-07-09T16:03:28.143Z"
   },
   {
    "duration": 4,
    "start_time": "2024-07-09T16:03:28.242Z"
   },
   {
    "duration": 422,
    "start_time": "2024-07-09T16:03:28.250Z"
   },
   {
    "duration": 185,
    "start_time": "2024-07-09T16:03:28.676Z"
   },
   {
    "duration": 389,
    "start_time": "2024-07-09T16:03:28.865Z"
   },
   {
    "duration": 14,
    "start_time": "2024-07-09T16:03:29.257Z"
   },
   {
    "duration": 30,
    "start_time": "2024-07-09T16:03:29.285Z"
   },
   {
    "duration": 681,
    "start_time": "2024-07-09T16:03:29.319Z"
   },
   {
    "duration": 212,
    "start_time": "2024-07-09T16:03:30.004Z"
   },
   {
    "duration": 288,
    "start_time": "2024-07-09T16:03:30.220Z"
   },
   {
    "duration": 351,
    "start_time": "2024-07-09T16:03:30.513Z"
   },
   {
    "duration": 320,
    "start_time": "2024-07-09T16:03:30.868Z"
   },
   {
    "duration": 232,
    "start_time": "2024-07-09T16:03:31.192Z"
   },
   {
    "duration": 312,
    "start_time": "2024-07-09T16:03:31.428Z"
   },
   {
    "duration": 215,
    "start_time": "2024-07-09T16:03:31.745Z"
   },
   {
    "duration": 2137,
    "start_time": "2024-07-09T16:03:31.965Z"
   },
   {
    "duration": 1124,
    "start_time": "2024-07-09T16:03:34.114Z"
   },
   {
    "duration": 329,
    "start_time": "2024-10-25T18:19:31.005Z"
   },
   {
    "duration": 2,
    "start_time": "2024-10-25T18:20:38.795Z"
   },
   {
    "duration": 1017,
    "start_time": "2024-10-25T18:23:00.056Z"
   },
   {
    "duration": 3,
    "start_time": "2024-10-25T18:23:14.504Z"
   },
   {
    "duration": 2,
    "start_time": "2024-10-25T18:26:17.217Z"
   },
   {
    "duration": 880,
    "start_time": "2024-10-25T18:28:22.681Z"
   },
   {
    "duration": 835,
    "start_time": "2024-10-25T18:28:37.911Z"
   },
   {
    "duration": 11,
    "start_time": "2024-10-25T18:28:46.183Z"
   },
   {
    "duration": 11,
    "start_time": "2024-10-25T18:29:11.286Z"
   },
   {
    "duration": 11,
    "start_time": "2024-10-25T18:29:48.782Z"
   },
   {
    "duration": 78,
    "start_time": "2024-10-25T18:38:33.639Z"
   },
   {
    "duration": 76,
    "start_time": "2024-10-25T18:38:40.095Z"
   },
   {
    "duration": 18,
    "start_time": "2024-10-25T18:40:25.512Z"
   },
   {
    "duration": 11,
    "start_time": "2024-10-25T18:41:19.249Z"
   },
   {
    "duration": 2,
    "start_time": "2024-10-25T18:43:08.234Z"
   },
   {
    "duration": 2,
    "start_time": "2024-10-25T18:44:01.487Z"
   },
   {
    "duration": 76,
    "start_time": "2024-10-25T18:45:36.777Z"
   },
   {
    "duration": 15,
    "start_time": "2024-10-25T18:51:12.147Z"
   },
   {
    "duration": 11,
    "start_time": "2024-10-25T18:51:36.671Z"
   },
   {
    "duration": 7,
    "start_time": "2024-10-25T18:52:12.996Z"
   },
   {
    "duration": 13,
    "start_time": "2024-10-25T18:53:54.491Z"
   },
   {
    "duration": 15,
    "start_time": "2024-10-25T18:54:11.895Z"
   },
   {
    "duration": 3,
    "start_time": "2024-10-25T19:11:39.248Z"
   },
   {
    "duration": 5,
    "start_time": "2024-10-25T19:11:44.396Z"
   },
   {
    "duration": 5,
    "start_time": "2024-10-25T19:12:17.975Z"
   },
   {
    "duration": 3,
    "start_time": "2024-10-25T19:12:18.561Z"
   },
   {
    "duration": 5,
    "start_time": "2024-10-25T19:12:19.883Z"
   },
   {
    "duration": 720,
    "start_time": "2024-10-25T19:19:54.620Z"
   },
   {
    "duration": 855,
    "start_time": "2024-10-25T19:20:36.545Z"
   },
   {
    "duration": 849,
    "start_time": "2024-10-25T19:21:28.722Z"
   },
   {
    "duration": 8,
    "start_time": "2024-10-25T19:32:18.951Z"
   },
   {
    "duration": 8,
    "start_time": "2024-10-25T19:33:00.274Z"
   },
   {
    "duration": 13,
    "start_time": "2024-10-25T19:33:11.493Z"
   },
   {
    "duration": 8,
    "start_time": "2024-10-25T19:39:12.368Z"
   },
   {
    "duration": 7,
    "start_time": "2024-10-25T19:39:27.552Z"
   },
   {
    "duration": 5,
    "start_time": "2024-10-25T19:41:25.144Z"
   },
   {
    "duration": 5,
    "start_time": "2024-10-25T19:41:50.091Z"
   },
   {
    "duration": 8,
    "start_time": "2024-10-25T19:43:16.561Z"
   },
   {
    "duration": 8,
    "start_time": "2024-10-25T19:43:37.095Z"
   },
   {
    "duration": 17,
    "start_time": "2024-10-25T19:43:44.936Z"
   },
   {
    "duration": 15,
    "start_time": "2024-10-25T19:44:05.590Z"
   },
   {
    "duration": 16,
    "start_time": "2024-10-25T19:48:56.098Z"
   },
   {
    "duration": 18,
    "start_time": "2024-10-25T19:49:01.318Z"
   },
   {
    "duration": 21,
    "start_time": "2024-10-25T19:49:13.408Z"
   },
   {
    "duration": 18,
    "start_time": "2024-10-25T19:49:55.169Z"
   },
   {
    "duration": 5,
    "start_time": "2024-10-25T19:51:15.045Z"
   },
   {
    "duration": 6,
    "start_time": "2024-10-25T19:52:13.350Z"
   },
   {
    "duration": 22,
    "start_time": "2024-10-25T19:53:02.147Z"
   },
   {
    "duration": 229,
    "start_time": "2024-10-25T19:53:18.570Z"
   },
   {
    "duration": 97,
    "start_time": "2024-10-25T19:54:00.990Z"
   },
   {
    "duration": 90,
    "start_time": "2024-10-25T19:54:04.420Z"
   },
   {
    "duration": 202,
    "start_time": "2024-10-25T19:54:07.812Z"
   },
   {
    "duration": 1625,
    "start_time": "2024-10-25T20:14:32.716Z"
   },
   {
    "duration": 1727,
    "start_time": "2024-10-25T20:14:47.854Z"
   },
   {
    "duration": 5,
    "start_time": "2024-10-25T20:20:04.974Z"
   },
   {
    "duration": 294,
    "start_time": "2024-10-25T20:21:20.544Z"
   },
   {
    "duration": 877,
    "start_time": "2024-10-25T20:21:20.840Z"
   },
   {
    "duration": 108,
    "start_time": "2024-10-25T20:21:21.719Z"
   },
   {
    "duration": 10,
    "start_time": "2024-10-25T20:21:21.829Z"
   },
   {
    "duration": 9,
    "start_time": "2024-10-25T20:21:21.842Z"
   },
   {
    "duration": 8,
    "start_time": "2024-10-25T20:21:21.852Z"
   },
   {
    "duration": 8,
    "start_time": "2024-10-25T20:21:21.887Z"
   },
   {
    "duration": 6,
    "start_time": "2024-10-25T20:21:21.896Z"
   },
   {
    "duration": 116,
    "start_time": "2024-10-25T20:21:21.904Z"
   },
   {
    "duration": 105,
    "start_time": "2024-10-25T20:21:22.022Z"
   },
   {
    "duration": 11,
    "start_time": "2024-10-25T20:21:22.129Z"
   },
   {
    "duration": 3,
    "start_time": "2024-10-25T20:21:22.142Z"
   },
   {
    "duration": 105,
    "start_time": "2024-10-25T20:21:22.148Z"
   },
   {
    "duration": 104,
    "start_time": "2024-10-25T20:21:22.258Z"
   },
   {
    "duration": 8,
    "start_time": "2024-10-25T20:21:22.364Z"
   },
   {
    "duration": 22,
    "start_time": "2024-10-25T20:21:22.374Z"
   },
   {
    "duration": 4,
    "start_time": "2024-10-25T20:21:22.398Z"
   },
   {
    "duration": 13,
    "start_time": "2024-10-25T20:21:22.404Z"
   },
   {
    "duration": 15,
    "start_time": "2024-10-25T20:21:22.418Z"
   },
   {
    "duration": 10,
    "start_time": "2024-10-25T20:21:22.435Z"
   },
   {
    "duration": 6,
    "start_time": "2024-10-25T20:21:22.446Z"
   },
   {
    "duration": 38,
    "start_time": "2024-10-25T20:21:22.453Z"
   },
   {
    "duration": 4,
    "start_time": "2024-10-25T20:21:22.492Z"
   },
   {
    "duration": 6,
    "start_time": "2024-10-25T20:21:22.497Z"
   },
   {
    "duration": 8,
    "start_time": "2024-10-25T20:21:22.504Z"
   },
   {
    "duration": 4,
    "start_time": "2024-10-25T20:21:22.514Z"
   },
   {
    "duration": 4,
    "start_time": "2024-10-25T20:21:22.519Z"
   },
   {
    "duration": 4,
    "start_time": "2024-10-25T20:21:22.525Z"
   },
   {
    "duration": 8,
    "start_time": "2024-10-25T20:21:22.531Z"
   },
   {
    "duration": 889,
    "start_time": "2024-10-25T20:21:22.540Z"
   },
   {
    "duration": 914,
    "start_time": "2024-10-25T20:21:23.431Z"
   },
   {
    "duration": 5,
    "start_time": "2024-10-25T20:21:24.347Z"
   },
   {
    "duration": 12,
    "start_time": "2024-10-25T20:21:24.354Z"
   },
   {
    "duration": 24,
    "start_time": "2024-10-25T20:21:24.368Z"
   },
   {
    "duration": 7,
    "start_time": "2024-10-25T20:21:24.394Z"
   },
   {
    "duration": 3,
    "start_time": "2024-10-25T20:21:24.402Z"
   },
   {
    "duration": 6,
    "start_time": "2024-10-25T20:21:24.406Z"
   },
   {
    "duration": 4,
    "start_time": "2024-10-25T20:21:24.413Z"
   },
   {
    "duration": 11,
    "start_time": "2024-10-25T20:21:24.419Z"
   },
   {
    "duration": 6,
    "start_time": "2024-10-25T20:21:24.431Z"
   },
   {
    "duration": 62,
    "start_time": "2024-10-25T20:21:24.442Z"
   },
   {
    "duration": 16,
    "start_time": "2024-10-25T20:21:24.506Z"
   },
   {
    "duration": 18,
    "start_time": "2024-10-25T20:21:24.524Z"
   },
   {
    "duration": 17,
    "start_time": "2024-10-25T20:21:24.544Z"
   },
   {
    "duration": 26,
    "start_time": "2024-10-25T20:21:24.563Z"
   },
   {
    "duration": 22,
    "start_time": "2024-10-25T20:21:24.591Z"
   },
   {
    "duration": 240,
    "start_time": "2024-10-25T20:21:24.614Z"
   },
   {
    "duration": 96,
    "start_time": "2024-10-25T20:21:24.856Z"
   },
   {
    "duration": 198,
    "start_time": "2024-10-25T20:21:24.954Z"
   },
   {
    "duration": 8,
    "start_time": "2024-10-25T20:21:25.155Z"
   },
   {
    "duration": 21,
    "start_time": "2024-10-25T20:21:25.166Z"
   },
   {
    "duration": 1972,
    "start_time": "2024-10-25T20:21:25.189Z"
   },
   {
    "duration": 103,
    "start_time": "2024-10-25T20:21:27.163Z"
   },
   {
    "duration": 142,
    "start_time": "2024-10-25T20:21:27.268Z"
   },
   {
    "duration": 154,
    "start_time": "2024-10-25T20:21:27.412Z"
   },
   {
    "duration": 158,
    "start_time": "2024-10-25T20:21:27.567Z"
   },
   {
    "duration": 101,
    "start_time": "2024-10-25T20:21:27.727Z"
   },
   {
    "duration": 189,
    "start_time": "2024-10-25T20:21:27.829Z"
   },
   {
    "duration": 99,
    "start_time": "2024-10-25T20:21:28.020Z"
   },
   {
    "duration": 994,
    "start_time": "2024-10-25T20:21:28.121Z"
   },
   {
    "duration": 615,
    "start_time": "2024-10-25T20:21:29.117Z"
   },
   {
    "duration": 1532,
    "start_time": "2024-10-25T20:21:29.734Z"
   },
   {
    "duration": 1831,
    "start_time": "2024-10-25T20:22:18.256Z"
   },
   {
    "duration": 1695,
    "start_time": "2024-10-25T20:22:26.428Z"
   }
  ],
  "colab": {
   "provenance": []
  },
  "kernelspec": {
   "display_name": "base",
   "language": "python",
   "name": "python3"
  },
  "language_info": {
   "codemirror_mode": {
    "name": "ipython",
    "version": 3
   },
   "file_extension": ".py",
   "mimetype": "text/x-python",
   "name": "python",
   "nbconvert_exporter": "python",
   "pygments_lexer": "ipython3",
   "version": "3.11.7"
  },
  "toc": {
   "base_numbering": 1,
   "nav_menu": {},
   "number_sections": true,
   "sideBar": true,
   "skip_h1_title": true,
   "title_cell": "Table of Contents",
   "title_sidebar": "Contents",
   "toc_cell": false,
   "toc_position": {},
   "toc_section_display": true,
   "toc_window_display": false
  }
 },
 "nbformat": 4,
 "nbformat_minor": 5
}
